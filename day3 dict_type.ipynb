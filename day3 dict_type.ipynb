{
 "cells": [
  {
   "cell_type": "code",
   "execution_count": 1,
   "id": "c396a011-865b-4d90-b564-6891d9070799",
   "metadata": {},
   "outputs": [],
   "source": [
    "s1={'Name':'Thomas',\n",
    "    'Age': 25,\n",
    "    'Marks':[45,67,89],\n",
    "    'Location':(22.5,89.3)\n",
    "   }"
   ]
  },
  {
   "cell_type": "code",
   "execution_count": 2,
   "id": "dc675a5e-e634-4f8e-b3cb-73e7ccc1ca83",
   "metadata": {},
   "outputs": [
    {
     "data": {
      "text/plain": [
       "{'Name': 'Thomas', 'Age': 25, 'Marks': [45, 67, 89], 'Location': (22.5, 89.3)}"
      ]
     },
     "execution_count": 2,
     "metadata": {},
     "output_type": "execute_result"
    }
   ],
   "source": [
    "s1"
   ]
  },
  {
   "cell_type": "code",
   "execution_count": 3,
   "id": "59223c4e-cc21-4878-827f-c081f4d5ff3e",
   "metadata": {},
   "outputs": [
    {
     "data": {
      "text/plain": [
       "dict_keys(['Name', 'Age', 'Marks', 'Location'])"
      ]
     },
     "execution_count": 3,
     "metadata": {},
     "output_type": "execute_result"
    }
   ],
   "source": [
    "s1.keys()"
   ]
  },
  {
   "cell_type": "code",
   "execution_count": 4,
   "id": "a83c40d8-6658-418b-a560-26a0575a605f",
   "metadata": {},
   "outputs": [
    {
     "data": {
      "text/plain": [
       "dict_values(['Thomas', 25, [45, 67, 89], (22.5, 89.3)])"
      ]
     },
     "execution_count": 4,
     "metadata": {},
     "output_type": "execute_result"
    }
   ],
   "source": [
    "s1.values()"
   ]
  },
  {
   "cell_type": "code",
   "execution_count": 5,
   "id": "ecb8b4e9-2d7f-4c06-852c-e09f470d69a9",
   "metadata": {},
   "outputs": [
    {
     "data": {
      "text/plain": [
       "dict_items([('Name', 'Thomas'), ('Age', 25), ('Marks', [45, 67, 89]), ('Location', (22.5, 89.3))])"
      ]
     },
     "execution_count": 5,
     "metadata": {},
     "output_type": "execute_result"
    }
   ],
   "source": [
    "s1.items()"
   ]
  },
  {
   "cell_type": "code",
   "execution_count": 6,
   "id": "8a6fb9e3-dd64-4da2-8a00-21f9991dcfd0",
   "metadata": {},
   "outputs": [],
   "source": [
    "s2={1:'One',\n",
    "    'Name':'You',\n",
    "    (0,0) : 'Origin'\n",
    "    #[1,2,3] : 'NA'\n",
    "   }\n",
    "    "
   ]
  },
  {
   "cell_type": "code",
   "execution_count": 7,
   "id": "9cf2a325-6736-41bb-9505-81cc5a8a13d5",
   "metadata": {},
   "outputs": [
    {
     "data": {
      "text/plain": [
       "{1: 'One', 'Name': 'You', (0, 0): 'Origin'}"
      ]
     },
     "execution_count": 7,
     "metadata": {},
     "output_type": "execute_result"
    }
   ],
   "source": [
    "s2"
   ]
  },
  {
   "cell_type": "markdown",
   "id": "c1e66b38-e8e0-474d-bf08-dbd6d95416e3",
   "metadata": {},
   "source": [
    "#### use  zip() function"
   ]
  },
  {
   "cell_type": "code",
   "execution_count": 8,
   "id": "5b885626-b44f-465a-9213-d39ff17d6a21",
   "metadata": {},
   "outputs": [],
   "source": [
    "names = ['Tom','Jon','Tim']\n",
    "marks = [89,99,90]"
   ]
  },
  {
   "cell_type": "code",
   "execution_count": 9,
   "id": "81dba400-1c2d-450f-bded-cbefa504414d",
   "metadata": {},
   "outputs": [
    {
     "data": {
      "text/plain": [
       "<zip at 0x1bf6a88c1c0>"
      ]
     },
     "execution_count": 9,
     "metadata": {},
     "output_type": "execute_result"
    }
   ],
   "source": [
    "zip(names,marks)"
   ]
  },
  {
   "cell_type": "code",
   "execution_count": 10,
   "id": "583e516b-4ce5-41a8-8463-ffaabf18ac78",
   "metadata": {},
   "outputs": [
    {
     "data": {
      "text/plain": [
       "{'Tom': 89, 'Jon': 99, 'Tim': 90}"
      ]
     },
     "execution_count": 10,
     "metadata": {},
     "output_type": "execute_result"
    }
   ],
   "source": [
    "mark_list=dict(zip(names,marks))\n",
    "mark_list"
   ]
  },
  {
   "cell_type": "code",
   "execution_count": 11,
   "id": "765e560d-a218-4844-a5cd-5cdc5b173c4a",
   "metadata": {},
   "outputs": [
    {
     "name": "stdout",
     "output_type": "stream",
     "text": [
      "('Tom', 89)\n",
      "('Jon', 99)\n",
      "('Tim', 90)\n"
     ]
    }
   ],
   "source": [
    "for x in zip(names,marks):\n",
    "    print(x)"
   ]
  },
  {
   "cell_type": "code",
   "execution_count": 12,
   "id": "2492ba9b-fff0-470f-b680-804a29c6f07a",
   "metadata": {},
   "outputs": [],
   "source": [
    "states=['TN','AP','Telangana','Karnataka','Kerala']\n",
    "capitals=['Chennai','Amaravathi','Hyderabad','Bangalore','Thiruananthapuram']\n",
    "language=['Tamil','Telugu','Telugu','Kannada','Malayalam']"
   ]
  },
  {
   "cell_type": "code",
   "execution_count": 13,
   "id": "a790f4db-2e14-410f-aeba-c66f57d962c1",
   "metadata": {},
   "outputs": [
    {
     "name": "stdout",
     "output_type": "stream",
     "text": [
      "('TN', 'Chennai', 'Tamil')\n",
      "('AP', 'Amaravathi', 'Telugu')\n",
      "('Telangana', 'Hyderabad', 'Telugu')\n",
      "('Karnataka', 'Bangalore', 'Kannada')\n",
      "('Kerala', 'Thiruananthapuram', 'Malayalam')\n"
     ]
    }
   ],
   "source": [
    "for x in zip(states,capitals,language):\n",
    "    print(x)"
   ]
  },
  {
   "cell_type": "code",
   "execution_count": 14,
   "id": "86469277-216b-4d8d-a3d4-e0446e5128e2",
   "metadata": {},
   "outputs": [
    {
     "data": {
      "text/plain": [
       "{'TN': 'Chennai',\n",
       " 'AP': 'Amaravathi',\n",
       " 'Telangana': 'Hyderabad',\n",
       " 'Karnataka': 'Bangalore',\n",
       " 'Kerala': 'Thiruananthapuram'}"
      ]
     },
     "execution_count": 14,
     "metadata": {},
     "output_type": "execute_result"
    }
   ],
   "source": [
    "dstates=dict(zip(states,capitals))\n",
    "dstates"
   ]
  },
  {
   "cell_type": "code",
   "execution_count": 15,
   "id": "70420a23-7171-444e-b395-9c972013a650",
   "metadata": {},
   "outputs": [
    {
     "data": {
      "text/plain": [
       "['__class__',\n",
       " '__class_getitem__',\n",
       " '__contains__',\n",
       " '__delattr__',\n",
       " '__delitem__',\n",
       " '__dir__',\n",
       " '__doc__',\n",
       " '__eq__',\n",
       " '__format__',\n",
       " '__ge__',\n",
       " '__getattribute__',\n",
       " '__getitem__',\n",
       " '__getstate__',\n",
       " '__gt__',\n",
       " '__hash__',\n",
       " '__init__',\n",
       " '__init_subclass__',\n",
       " '__ior__',\n",
       " '__iter__',\n",
       " '__le__',\n",
       " '__len__',\n",
       " '__lt__',\n",
       " '__ne__',\n",
       " '__new__',\n",
       " '__or__',\n",
       " '__reduce__',\n",
       " '__reduce_ex__',\n",
       " '__repr__',\n",
       " '__reversed__',\n",
       " '__ror__',\n",
       " '__setattr__',\n",
       " '__setitem__',\n",
       " '__sizeof__',\n",
       " '__str__',\n",
       " '__subclasshook__',\n",
       " 'clear',\n",
       " 'copy',\n",
       " 'fromkeys',\n",
       " 'get',\n",
       " 'items',\n",
       " 'keys',\n",
       " 'pop',\n",
       " 'popitem',\n",
       " 'setdefault',\n",
       " 'update',\n",
       " 'values']"
      ]
     },
     "execution_count": 15,
     "metadata": {},
     "output_type": "execute_result"
    }
   ],
   "source": [
    "dir(dict)\n"
   ]
  },
  {
   "cell_type": "code",
   "execution_count": 16,
   "id": "5ff39417-0a11-4e09-9bec-ec3eefa68fc8",
   "metadata": {},
   "outputs": [
    {
     "data": {
      "text/plain": [
       "'Chennai'"
      ]
     },
     "execution_count": 16,
     "metadata": {},
     "output_type": "execute_result"
    }
   ],
   "source": [
    "dstates['TN']"
   ]
  },
  {
   "cell_type": "code",
   "execution_count": 17,
   "id": "dbdfcad2-a729-4068-b299-00679ac51b83",
   "metadata": {},
   "outputs": [
    {
     "ename": "KeyError",
     "evalue": "'MP'",
     "output_type": "error",
     "traceback": [
      "\u001b[1;31m---------------------------------------------------------------------------\u001b[0m",
      "\u001b[1;31mKeyError\u001b[0m                                  Traceback (most recent call last)",
      "Cell \u001b[1;32mIn[17], line 1\u001b[0m\n\u001b[1;32m----> 1\u001b[0m dstates[\u001b[38;5;124m'\u001b[39m\u001b[38;5;124mMP\u001b[39m\u001b[38;5;124m'\u001b[39m]\n",
      "\u001b[1;31mKeyError\u001b[0m: 'MP'"
     ]
    }
   ],
   "source": [
    "dstates['MP']"
   ]
  },
  {
   "cell_type": "code",
   "execution_count": 18,
   "id": "113a20da-f765-47e9-b68c-72a64740714d",
   "metadata": {},
   "outputs": [],
   "source": [
    "dstates.get('MP')"
   ]
  },
  {
   "cell_type": "code",
   "execution_count": 19,
   "id": "de35e113-816c-4829-aa12-8b80e9f428ea",
   "metadata": {},
   "outputs": [],
   "source": [
    "dstates['UP']='Lucknow'"
   ]
  },
  {
   "cell_type": "code",
   "execution_count": 20,
   "id": "cbcb22b1-cd65-4d45-88ed-7dc13cd5a97e",
   "metadata": {},
   "outputs": [
    {
     "data": {
      "text/plain": [
       "'Amaravathi'"
      ]
     },
     "execution_count": 20,
     "metadata": {},
     "output_type": "execute_result"
    }
   ],
   "source": [
    "dstates.get('AP')"
   ]
  },
  {
   "cell_type": "code",
   "execution_count": 21,
   "id": "dfe3bb1b-ffee-4e22-90e0-d0b4428f2beb",
   "metadata": {},
   "outputs": [
    {
     "data": {
      "text/plain": [
       "{'TN': 'Chennai',\n",
       " 'AP': 'Amaravathi',\n",
       " 'Telangana': 'Hyderabad',\n",
       " 'Karnataka': 'Bangalore',\n",
       " 'Kerala': 'Thiruananthapuram',\n",
       " 'UP': 'Lucknow'}"
      ]
     },
     "execution_count": 21,
     "metadata": {},
     "output_type": "execute_result"
    }
   ],
   "source": [
    "dstates"
   ]
  },
  {
   "cell_type": "code",
   "execution_count": 22,
   "id": "6b347d7a-f1d1-4759-88ba-605fd47b4437",
   "metadata": {},
   "outputs": [],
   "source": [
    "dstates['AP']='Vizag'"
   ]
  },
  {
   "cell_type": "code",
   "execution_count": 23,
   "id": "04405280-ea5c-4887-8ebb-795f7a545272",
   "metadata": {},
   "outputs": [
    {
     "data": {
      "text/plain": [
       "{'TN': 'Chennai',\n",
       " 'AP': 'Vizag',\n",
       " 'Telangana': 'Hyderabad',\n",
       " 'Karnataka': 'Bangalore',\n",
       " 'Kerala': 'Thiruananthapuram',\n",
       " 'UP': 'Lucknow'}"
      ]
     },
     "execution_count": 23,
     "metadata": {},
     "output_type": "execute_result"
    }
   ],
   "source": [
    "dstates"
   ]
  },
  {
   "cell_type": "code",
   "execution_count": 24,
   "id": "8384393e-27b6-4f6a-a077-1d4d13d22974",
   "metadata": {},
   "outputs": [
    {
     "data": {
      "text/plain": [
       "'Thiruananthapuram'"
      ]
     },
     "execution_count": 24,
     "metadata": {},
     "output_type": "execute_result"
    }
   ],
   "source": [
    "dstates.setdefault('Kerala','Kochi')"
   ]
  },
  {
   "cell_type": "code",
   "execution_count": 25,
   "id": "7ae8ecf3-b044-478a-ae7e-bbea747af3ef",
   "metadata": {},
   "outputs": [
    {
     "data": {
      "text/plain": [
       "'Bhuvaneshwar'"
      ]
     },
     "execution_count": 25,
     "metadata": {},
     "output_type": "execute_result"
    }
   ],
   "source": [
    "dstates.setdefault('Odisha','Bhuvaneshwar')"
   ]
  },
  {
   "cell_type": "code",
   "execution_count": 26,
   "id": "bd6ccd2e-bd66-47de-9059-51eee43799d1",
   "metadata": {},
   "outputs": [
    {
     "data": {
      "text/plain": [
       "{'TN': 'Chennai',\n",
       " 'AP': 'Vizag',\n",
       " 'Telangana': 'Hyderabad',\n",
       " 'Karnataka': 'Bangalore',\n",
       " 'Kerala': 'Thiruananthapuram',\n",
       " 'UP': 'Lucknow',\n",
       " 'Odisha': 'Bhuvaneshwar'}"
      ]
     },
     "execution_count": 26,
     "metadata": {},
     "output_type": "execute_result"
    }
   ],
   "source": [
    "dstates"
   ]
  },
  {
   "cell_type": "code",
   "execution_count": 27,
   "id": "4e87a332-3623-4582-8607-b34f4ada796f",
   "metadata": {},
   "outputs": [],
   "source": [
    "d1={1:'Mango',\n",
    "    2:'Strawberry',\n",
    "    3:'Kiwi'\n",
    "   }"
   ]
  },
  {
   "cell_type": "code",
   "execution_count": 28,
   "id": "0d606559-2e4e-4128-a28d-f7188664c976",
   "metadata": {},
   "outputs": [],
   "source": [
    "d2={2:'Papaya',\n",
    "    3:'Grapes',\n",
    "    4:'Tomato'\n",
    "   }"
   ]
  },
  {
   "cell_type": "code",
   "execution_count": 29,
   "id": "39fbfabf-e5c7-454c-9b8c-3e8a3a0a9ab8",
   "metadata": {},
   "outputs": [],
   "source": [
    "d1.update(d2)"
   ]
  },
  {
   "cell_type": "code",
   "execution_count": 30,
   "id": "cab3884a-aeea-431c-b4a6-4783f85f11b8",
   "metadata": {},
   "outputs": [
    {
     "data": {
      "text/plain": [
       "{1: 'Mango', 2: 'Papaya', 3: 'Grapes', 4: 'Tomato'}"
      ]
     },
     "execution_count": 30,
     "metadata": {},
     "output_type": "execute_result"
    }
   ],
   "source": [
    "d1"
   ]
  },
  {
   "cell_type": "code",
   "execution_count": 31,
   "id": "bd221e06-8bb3-4858-8706-e8cd0b55fa8d",
   "metadata": {},
   "outputs": [
    {
     "data": {
      "text/plain": [
       "{'Name': 'Thomas', 'Age': 25, 'Marks': [45, 67, 89], 'Location': (22.5, 89.3)}"
      ]
     },
     "execution_count": 31,
     "metadata": {},
     "output_type": "execute_result"
    }
   ],
   "source": [
    "s1"
   ]
  },
  {
   "cell_type": "code",
   "execution_count": 32,
   "id": "f9f31e27-643e-4a89-bc23-89cdb7eb14c6",
   "metadata": {},
   "outputs": [
    {
     "data": {
      "text/plain": [
       "('Location', (22.5, 89.3))"
      ]
     },
     "execution_count": 32,
     "metadata": {},
     "output_type": "execute_result"
    }
   ],
   "source": [
    "s1.popitem()"
   ]
  },
  {
   "cell_type": "code",
   "execution_count": 33,
   "id": "e877fc36-7282-4897-9c64-ca954859f25a",
   "metadata": {},
   "outputs": [
    {
     "data": {
      "text/plain": [
       "{'Name': 'Thomas', 'Age': 25, 'Marks': [45, 67, 89]}"
      ]
     },
     "execution_count": 33,
     "metadata": {},
     "output_type": "execute_result"
    }
   ],
   "source": [
    "s1"
   ]
  },
  {
   "cell_type": "code",
   "execution_count": 34,
   "id": "86f4b2fe-f458-4942-9a68-5425f1e74246",
   "metadata": {},
   "outputs": [
    {
     "data": {
      "text/plain": [
       "25"
      ]
     },
     "execution_count": 34,
     "metadata": {},
     "output_type": "execute_result"
    }
   ],
   "source": [
    "s1.pop('Age')"
   ]
  },
  {
   "cell_type": "code",
   "execution_count": 35,
   "id": "0d3c03b8-8ba2-41e9-ac20-1c3e9d6497ab",
   "metadata": {},
   "outputs": [
    {
     "data": {
      "text/plain": [
       "{'Name': 'Thomas', 'Marks': [45, 67, 89]}"
      ]
     },
     "execution_count": 35,
     "metadata": {},
     "output_type": "execute_result"
    }
   ],
   "source": [
    "s1"
   ]
  },
  {
   "cell_type": "code",
   "execution_count": null,
   "id": "1c8a8cf3-8698-47dd-9a3b-1a886e3e9d9b",
   "metadata": {},
   "outputs": [],
   "source": []
  }
 ],
 "metadata": {
  "kernelspec": {
   "display_name": "Python 3 (ipykernel)",
   "language": "python",
   "name": "python3"
  },
  "language_info": {
   "codemirror_mode": {
    "name": "ipython",
    "version": 3
   },
   "file_extension": ".py",
   "mimetype": "text/x-python",
   "name": "python",
   "nbconvert_exporter": "python",
   "pygments_lexer": "ipython3",
   "version": "3.12.7"
  }
 },
 "nbformat": 4,
 "nbformat_minor": 5
}

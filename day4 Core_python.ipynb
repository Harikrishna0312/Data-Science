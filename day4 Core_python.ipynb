{
 "cells": [
  {
   "cell_type": "markdown",
   "id": "c975ba78-c02c-4dd1-b34c-40f617a8ebc0",
   "metadata": {},
   "source": [
    "##### Print statement"
   ]
  },
  {
   "cell_type": "code",
   "execution_count": 1,
   "id": "7ac62234-786f-4ada-a83b-de23a911389a",
   "metadata": {},
   "outputs": [
    {
     "name": "stdout",
     "output_type": "stream",
     "text": [
      "Hello world\n"
     ]
    }
   ],
   "source": [
    "print('Hello world')"
   ]
  },
  {
   "cell_type": "code",
   "execution_count": 2,
   "id": "18865508-1f06-43c8-b425-a738cc953fdb",
   "metadata": {},
   "outputs": [
    {
     "name": "stdout",
     "output_type": "stream",
     "text": [
      "The value of x is 10\n"
     ]
    }
   ],
   "source": [
    "x = 10\n",
    "print('The value of x is', x)"
   ]
  },
  {
   "cell_type": "code",
   "execution_count": 3,
   "id": "40bb31db-8b44-4526-bb37-b45a1a07732b",
   "metadata": {},
   "outputs": [],
   "source": [
    "name = 'Tom'\n",
    "age = 28"
   ]
  },
  {
   "cell_type": "code",
   "execution_count": 4,
   "id": "a32d3bfa-b406-4949-aeb3-b7e2ac42fb27",
   "metadata": {},
   "outputs": [
    {
     "name": "stdout",
     "output_type": "stream",
     "text": [
      "Tom  is  28  years old\n"
     ]
    }
   ],
   "source": [
    "print(name,' is ', age, ' years old')"
   ]
  },
  {
   "cell_type": "code",
   "execution_count": 5,
   "id": "fa18aeae-85d6-4cba-920e-90f59a4bf5ff",
   "metadata": {},
   "outputs": [
    {
     "name": "stdout",
     "output_type": "stream",
     "text": [
      "Tom is 28 years old\n"
     ]
    }
   ],
   "source": [
    "print(f'{name} is {age} years old')"
   ]
  },
  {
   "cell_type": "markdown",
   "id": "b15feccf-1398-41db-a68e-ea87b554c5f7",
   "metadata": {},
   "source": [
    "#### Getting input from user"
   ]
  },
  {
   "cell_type": "code",
   "execution_count": 6,
   "id": "496581ac-37f8-4224-a803-b7e85cfe1cdd",
   "metadata": {},
   "outputs": [
    {
     "name": "stdin",
     "output_type": "stream",
     "text": [
      "Enter your name Thomas\n"
     ]
    },
    {
     "data": {
      "text/plain": [
       "'Thomas'"
      ]
     },
     "execution_count": 6,
     "metadata": {},
     "output_type": "execute_result"
    }
   ],
   "source": [
    "name=input('Enter your name')\n",
    "name"
   ]
  },
  {
   "cell_type": "code",
   "execution_count": 7,
   "id": "2db47613-49da-46e8-9a07-bde6dbd5442a",
   "metadata": {},
   "outputs": [
    {
     "name": "stdin",
     "output_type": "stream",
     "text": [
      "Enter your age: 25\n"
     ]
    },
    {
     "data": {
      "text/plain": [
       "25"
      ]
     },
     "execution_count": 7,
     "metadata": {},
     "output_type": "execute_result"
    }
   ],
   "source": [
    "age=int(input('Enter your age:'))\n",
    "age"
   ]
  },
  {
   "cell_type": "markdown",
   "id": "62427276-4a6e-4e2e-aa50-6801cf565c32",
   "metadata": {},
   "source": [
    "#### Conditional statements"
   ]
  },
  {
   "cell_type": "code",
   "execution_count": 8,
   "id": "05384ee9-4df9-4260-9c56-94f00cd4b583",
   "metadata": {},
   "outputs": [],
   "source": [
    "x = 25"
   ]
  },
  {
   "cell_type": "code",
   "execution_count": 9,
   "id": "8745a712-8650-4c5e-9464-4bfd11fa2d9a",
   "metadata": {},
   "outputs": [
    {
     "name": "stdout",
     "output_type": "stream",
     "text": [
      "x is greater than 10\n"
     ]
    }
   ],
   "source": [
    "if x > 10 :\n",
    "    print('x is greater than 10')\n"
   ]
  },
  {
   "cell_type": "code",
   "execution_count": 10,
   "id": "7abdd123-44f3-4af2-acf0-aa2fc251a0ad",
   "metadata": {},
   "outputs": [
    {
     "name": "stdout",
     "output_type": "stream",
     "text": [
      "x is greater than 10\n",
      "Hi\n",
      "Done\n"
     ]
    }
   ],
   "source": [
    "x=19\n",
    "if x>10:\n",
    "    print('x is greater than 10')\n",
    "    print('Hi')\n",
    "else:\n",
    "    print('x is not greater than 10')\n",
    "    print('Hello')\n",
    "print('Done')"
   ]
  },
  {
   "cell_type": "code",
   "execution_count": 11,
   "id": "433119f3-0022-4171-93e2-271c1cc45f8c",
   "metadata": {},
   "outputs": [
    {
     "name": "stdout",
     "output_type": "stream",
     "text": [
      "Why are you so negative?\n",
      "Cheer Up\n"
     ]
    }
   ],
   "source": [
    "x=-1\n",
    "if x>0:\n",
    "    print('Wow! You are so positive!')\n",
    "    print('Keep it up')\n",
    "else:\n",
    "    print('Why are you so negative?')\n",
    "    print('Cheer Up')"
   ]
  },
  {
   "cell_type": "code",
   "execution_count": 12,
   "id": "62fda9c6-fa3d-41ad-8ad1-f6483c438420",
   "metadata": {},
   "outputs": [
    {
     "name": "stdout",
     "output_type": "stream",
     "text": [
      "You have greater taste\n",
      "Enjoy your Icecream \n"
     ]
    }
   ],
   "source": [
    "#i did this  example\n",
    "x=15\n",
    "if x>10:\n",
    "    print('You have greater taste')\n",
    "    print('Enjoy your Icecream ')\n",
    "else:\n",
    "    print('sum we only have')\n",
    "    print('Chocalate')"
   ]
  },
  {
   "cell_type": "code",
   "execution_count": 13,
   "id": "78c52878-d6c8-4da1-a76e-7cb077a0d5cc",
   "metadata": {},
   "outputs": [
    {
     "name": "stdin",
     "output_type": "stream",
     "text": [
      "Enter your fav flavour: Chocolate\n"
     ]
    },
    {
     "data": {
      "text/plain": [
       "'chocolate'"
      ]
     },
     "execution_count": 13,
     "metadata": {},
     "output_type": "execute_result"
    }
   ],
   "source": [
    "flavour=input('Enter your fav flavour:').lower()\n",
    "flavour"
   ]
  },
  {
   "cell_type": "code",
   "execution_count": 14,
   "id": "d1195f62-2b7c-4701-ab15-af41ec661c11",
   "metadata": {},
   "outputs": [
    {
     "name": "stdout",
     "output_type": "stream",
     "text": [
      "You have great taste!\n",
      "Enjoy your ice cream\n"
     ]
    }
   ],
   "source": [
    "if flavour=='chocolate':\n",
    "    print('You have great taste!')\n",
    "    print('Enjoy your ice cream')\n",
    "else:\n",
    "    print('sorry, we only have Chocolate')"
   ]
  },
  {
   "cell_type": "code",
   "execution_count": 15,
   "id": "0e343ac2-5c1d-4aa3-bee8-9ae89bb1e590",
   "metadata": {},
   "outputs": [
    {
     "name": "stdin",
     "output_type": "stream",
     "text": [
      "Enter a username: Bob123\n"
     ]
    }
   ],
   "source": [
    "user=input('Enter a username:')"
   ]
  },
  {
   "cell_type": "code",
   "execution_count": 16,
   "id": "23ce61a0-adc1-48b0-abb6-9c764f1ee1ff",
   "metadata": {},
   "outputs": [
    {
     "name": "stdout",
     "output_type": "stream",
     "text": [
      "Registration successful!\n"
     ]
    }
   ],
   "source": [
    "if'#' in user or '$' in user:\n",
    "    print('Username cannot have special characters')\n",
    "else:\n",
    "    print('Registration successful!')"
   ]
  },
  {
   "cell_type": "markdown",
   "id": "6498a29c-a665-44d8-8196-465ad50a8704",
   "metadata": {},
   "source": [
    "#### if-elif"
   ]
  },
  {
   "cell_type": "code",
   "execution_count": 17,
   "id": "1886fab9-0860-4788-9916-7a21296ba875",
   "metadata": {},
   "outputs": [
    {
     "name": "stdin",
     "output_type": "stream",
     "text": [
      "Enter a day: 6\n"
     ]
    },
    {
     "data": {
      "text/plain": [
       "6"
      ]
     },
     "execution_count": 17,
     "metadata": {},
     "output_type": "execute_result"
    }
   ],
   "source": [
    "day = int(input('Enter a day:'))\n",
    "day"
   ]
  },
  {
   "cell_type": "code",
   "execution_count": 18,
   "id": "de9658a1-d0b1-44fd-a917-fb73ecb63def",
   "metadata": {},
   "outputs": [
    {
     "name": "stdout",
     "output_type": "stream",
     "text": [
      "Weekend!!!\n"
     ]
    }
   ],
   "source": [
    "if day == 1:\n",
    "    print('Monday')\n",
    "elif day == 2:\n",
    "    print('Tuesday')\n",
    "elif day == 3:\n",
    "    print('Wednesday')\n",
    "elif day == 4:\n",
    "    print('Thursday')\n",
    "elif day == 5:\n",
    "    print('Friday')\n",
    "elif day == 6 or day == 7:\n",
    "    print('Weekend!!!')\n",
    "else:\n",
    "    print('No such day!')"
   ]
  },
  {
   "cell_type": "code",
   "execution_count": 19,
   "id": "b241bf29-fafc-4b4e-9a40-7e7b350c6583",
   "metadata": {},
   "outputs": [
    {
     "name": "stdin",
     "output_type": "stream",
     "text": [
      "Enter the time of day: evening\n"
     ]
    },
    {
     "name": "stdout",
     "output_type": "stream",
     "text": [
      "It is snack time\n",
      "Let us eat....\n"
     ]
    }
   ],
   "source": [
    "time = input('Enter the time of day:').lower()\n",
    "\n",
    "if time == 'Morning':\n",
    "    print('It is for breakfast time.')\n",
    "elif time == 'noon':\n",
    "    print('It is lunch time.')\n",
    "elif time == 'night':\n",
    "    print('Itis dinner time.')\n",
    "else:\n",
    "    print('It is snack time')\n",
    "print('Let us eat....')"
   ]
  },
  {
   "cell_type": "code",
   "execution_count": 20,
   "id": "5856ad1e-6313-44a8-b3d0-23342c86bb70",
   "metadata": {},
   "outputs": [
    {
     "name": "stdin",
     "output_type": "stream",
     "text": [
      "Enter your marks: 26\n"
     ]
    },
    {
     "name": "stdout",
     "output_type": "stream",
     "text": [
      "The grade is : Failed\n"
     ]
    }
   ],
   "source": [
    "mark = int(input('Enter your marks:'))\n",
    "\n",
    "if mark >= 80:\n",
    "    res = 'Distinction'\n",
    "elif mark >= 60 and mark < 80:\n",
    "    res = 'First class'\n",
    "elif mark>= 40 and mark < 60:\n",
    "    res = 'Second class'\n",
    "else:\n",
    "    res ='Failed'\n",
    "print('The grade is :', res)"
   ]
  },
  {
   "cell_type": "code",
   "execution_count": 21,
   "id": "68b077f6-dff0-4fbf-8af7-d48f1c7c9d4b",
   "metadata": {},
   "outputs": [
    {
     "name": "stdin",
     "output_type": "stream",
     "text": [
      "Enter your marks: 87\n"
     ]
    },
    {
     "name": "stdout",
     "output_type": "stream",
     "text": [
      "The grade is : Distinction\n"
     ]
    }
   ],
   "source": [
    "mark = int(input('Enter your marks:'))\n",
    "\n",
    "if mark >= 80:\n",
    "    res = 'Distinction'\n",
    "elif mark >= 60:\n",
    "    res = 'First class'\n",
    "elif mark >= 40:\n",
    "    res = 'Second class'\n",
    "else:\n",
    "    res ='Failed'\n",
    "print('The grade is :', res)"
   ]
  },
  {
   "cell_type": "markdown",
   "id": "86f82b0c-7a02-43f6-8cb2-bc9672a939f2",
   "metadata": {},
   "source": [
    "#### Loops in python"
   ]
  },
  {
   "cell_type": "code",
   "execution_count": 22,
   "id": "1911bbbe-5062-4199-ba6e-5d063c4d4d86",
   "metadata": {},
   "outputs": [
    {
     "name": "stdout",
     "output_type": "stream",
     "text": [
      "The grade is: Failed\n",
      "The grade is: Second Class\n",
      "The grade is: First Class\n",
      "The grade is: Distinction\n",
      "The grade is: First Class\n",
      "The grade is: Second Class\n"
     ]
    }
   ],
   "source": [
    "mark_list = [34,56,77,89,76,45]\n",
    "\n",
    "for mark in mark_list:\n",
    "    if mark >= 80:\n",
    "        res ='Distinction'\n",
    "    elif mark >= 60:\n",
    "        res ='First Class'\n",
    "    elif mark >= 40:\n",
    "        res ='Second Class'\n",
    "    else:\n",
    "        res ='Failed'\n",
    "    print('The grade is:', res)"
   ]
  },
  {
   "cell_type": "code",
   "execution_count": 23,
   "id": "1f385a12-c018-4efb-b29d-8b705fdd2b2d",
   "metadata": {},
   "outputs": [],
   "source": [
    "names=['Thomas','George','Peter','Hugh','Brian','Meghan']\n",
    "mark_list=[34,56,77,89,76,45]"
   ]
  },
  {
   "cell_type": "code",
   "execution_count": 24,
   "id": "cdc0a00c-a010-4706-a2f8-aa388cb8c4a7",
   "metadata": {},
   "outputs": [
    {
     "data": {
      "text/plain": [
       "zip"
      ]
     },
     "execution_count": 24,
     "metadata": {},
     "output_type": "execute_result"
    }
   ],
   "source": [
    "type(zip(names, mark_list))"
   ]
  },
  {
   "cell_type": "code",
   "execution_count": 25,
   "id": "21ae233d-9a12-4536-a9c0-853a813d5227",
   "metadata": {},
   "outputs": [
    {
     "name": "stdout",
     "output_type": "stream",
     "text": [
      "('Thomas', 34)\n",
      "('George', 56)\n",
      "('Peter', 77)\n",
      "('Hugh', 89)\n",
      "('Brian', 76)\n",
      "('Meghan', 45)\n"
     ]
    }
   ],
   "source": [
    "for item in zip(names,mark_list):\n",
    "    print(item)"
   ]
  },
  {
   "cell_type": "code",
   "execution_count": 26,
   "id": "9a814eb1-4bca-4d9d-ad9b-95f8a60d99d7",
   "metadata": {},
   "outputs": [
    {
     "name": "stdout",
     "output_type": "stream",
     "text": [
      "('Thomas', 34)\n",
      "Thomas 34\n",
      "('George', 56)\n",
      "George 56\n",
      "('Peter', 77)\n",
      "Peter 77\n",
      "('Hugh', 89)\n",
      "Hugh 89\n",
      "('Brian', 76)\n",
      "Brian 76\n",
      "('Meghan', 45)\n",
      "Meghan 45\n"
     ]
    }
   ],
   "source": [
    "for item in zip(names,mark_list):\n",
    "    print(item)\n",
    "    name=item[0]\n",
    "    mark=item[1]\n",
    "    print(name,mark)"
   ]
  },
  {
   "cell_type": "code",
   "execution_count": 27,
   "id": "50887742-97e9-4eca-b364-a72767b9277d",
   "metadata": {},
   "outputs": [
    {
     "name": "stdout",
     "output_type": "stream",
     "text": [
      "Thomas's grade is:', Failed\n",
      "George's grade is:', Second Class\n",
      "Peter's grade is:', First Class\n",
      "Hugh's grade is:', Distinction\n",
      "Brian's grade is:', First Class\n",
      "Meghan's grade is:', Second Class\n"
     ]
    }
   ],
   "source": [
    "for item in zip(names,mark_list):\n",
    "    name=item[0]\n",
    "    mark=item[1]\n",
    "    if mark >= 80:\n",
    "        res ='Distinction'\n",
    "    elif mark >= 60:\n",
    "        res ='First Class'\n",
    "    elif mark >= 40:\n",
    "        res ='Second Class'\n",
    "    else:\n",
    "        res ='Failed'\n",
    "    print(f\"{name}'s grade is:', {res}\")\n"
   ]
  },
  {
   "cell_type": "code",
   "execution_count": 28,
   "id": "43bb0d05-6a70-429e-83bf-426d56cb6d18",
   "metadata": {},
   "outputs": [
    {
     "name": "stdout",
     "output_type": "stream",
     "text": [
      "hello 0\n",
      "hello 1\n",
      "hello 2\n"
     ]
    }
   ],
   "source": [
    "for i in range(3):\n",
    "    print('hello',i)"
   ]
  },
  {
   "cell_type": "code",
   "execution_count": 29,
   "id": "414f0da6-92dc-40b8-b05d-d575b8af564f",
   "metadata": {},
   "outputs": [
    {
     "name": "stdout",
     "output_type": "stream",
     "text": [
      "Hello 1\n",
      "Hello 2\n",
      "Hello 3\n"
     ]
    }
   ],
   "source": [
    "for i in range(1,4):\n",
    "    print('Hello',i)"
   ]
  },
  {
   "cell_type": "code",
   "execution_count": 30,
   "id": "4d7cf15e-aac7-4756-bfd7-2b7676c0cd1c",
   "metadata": {},
   "outputs": [
    {
     "name": "stdout",
     "output_type": "stream",
     "text": [
      "Hello 0\n",
      "Hello 10\n",
      "Hello 20\n",
      "Hello 30\n",
      "Hello 40\n",
      "Hello 50\n",
      "Hello 60\n",
      "Hello 70\n",
      "Hello 80\n",
      "Hello 90\n",
      "Hello 100\n"
     ]
    }
   ],
   "source": [
    "for i in range (0,101,10):\n",
    "    print('Hello',i)"
   ]
  },
  {
   "cell_type": "code",
   "execution_count": 31,
   "id": "fe6875bf-899b-4d6a-81e0-c18efef079fd",
   "metadata": {},
   "outputs": [
    {
     "name": "stdout",
     "output_type": "stream",
     "text": [
      "* \n",
      "* * \n",
      "* * * \n",
      "* * * * \n",
      "* * * * * \n"
     ]
    }
   ],
   "source": [
    "for i in range(1,6):\n",
    "    print(i*'* ')"
   ]
  },
  {
   "cell_type": "code",
   "execution_count": 32,
   "id": "4ad90eca-afbb-43e9-8b46-a383557226d4",
   "metadata": {},
   "outputs": [
    {
     "name": "stdout",
     "output_type": "stream",
     "text": [
      "* \n",
      "* * \n",
      "* * * \n",
      "* * * * \n",
      "* * * * * \n"
     ]
    }
   ],
   "source": [
    "for i in range(1,6):\n",
    "    print(i*'* ')"
   ]
  },
  {
   "cell_type": "markdown",
   "id": "8c184c4f-dc05-46bc-935e-2e061ceec2bc",
   "metadata": {},
   "source": [
    "#### While loop"
   ]
  },
  {
   "cell_type": "code",
   "execution_count": 33,
   "id": "c6f711f6-1ad2-4df3-94ee-bb0d7c73a8a3",
   "metadata": {},
   "outputs": [
    {
     "name": "stdout",
     "output_type": "stream",
     "text": [
      "Hello 1\n",
      "Hello 2\n",
      "Hello 3\n"
     ]
    }
   ],
   "source": [
    "x=1\n",
    "while x <4:\n",
    "    print('Hello', x)\n",
    "    x = x+1"
   ]
  },
  {
   "cell_type": "code",
   "execution_count": 34,
   "id": "4d99ded8-a392-4917-bf78-4fb9e039a495",
   "metadata": {},
   "outputs": [
    {
     "name": "stdout",
     "output_type": "stream",
     "text": [
      "* \n",
      "* * \n",
      "* * * \n",
      "* * * * \n",
      "* * * * * \n",
      "* * * * * * \n",
      "* * * * * * * \n",
      "* * * * * * * * \n",
      "* * * * * * * * * \n",
      "* * * * * * * * * * \n",
      "Outside the loop\n"
     ]
    }
   ],
   "source": [
    "for i in range(1,100):\n",
    "    print(i*'* ')\n",
    "    if i == 10:\n",
    "        break;\n",
    "print('Outside the loop')"
   ]
  },
  {
   "cell_type": "code",
   "execution_count": 35,
   "id": "fddabbbc-1af8-4a75-8d90-2b24fd650606",
   "metadata": {},
   "outputs": [
    {
     "name": "stdout",
     "output_type": "stream",
     "text": [
      "Hello 1\n",
      "Hello 2\n",
      "Hello 3\n",
      "Hello 4\n",
      "Outside the loop\n"
     ]
    }
   ],
   "source": [
    "x = 1\n",
    "while x < 100:\n",
    "    print('Hello', x)\n",
    "    x = x + 1\n",
    "    if x == 5:\n",
    "        break\n",
    "print('Outside the loop')"
   ]
  },
  {
   "cell_type": "code",
   "execution_count": 36,
   "id": "d019a745-0051-440a-add7-0a7cb1fa9179",
   "metadata": {},
   "outputs": [
    {
     "name": "stdout",
     "output_type": "stream",
     "text": [
      "Hello 1\n",
      "Hello 2\n",
      "Hello 3\n",
      "Hello 4\n",
      "Outside the loop\n"
     ]
    }
   ],
   "source": [
    "x = 1\n",
    "while True:\n",
    "    print('Hello', x)\n",
    "    x = x + 1\n",
    "    if x == 5:\n",
    "        break\n",
    "print('Outside the loop')"
   ]
  },
  {
   "cell_type": "code",
   "execution_count": 37,
   "id": "eab0a30a-49cf-4444-8811-d47e98761f77",
   "metadata": {},
   "outputs": [
    {
     "name": "stdin",
     "output_type": "stream",
     "text": [
      "Enter number between 1-10 1\n",
      "Enter number between 1-10 2\n",
      "Enter number between 1-10 3\n"
     ]
    }
   ],
   "source": [
    "for i in range(3):\n",
    "    num = int(input('Enter number between 1-10'))"
   ]
  },
  {
   "cell_type": "code",
   "execution_count": 38,
   "id": "293ac4ee-6a20-4420-b04e-1a6614c18bcb",
   "metadata": {},
   "outputs": [
    {
     "name": "stdin",
     "output_type": "stream",
     "text": [
      "Enter number between 1-10 1\n"
     ]
    },
    {
     "name": "stdout",
     "output_type": "stream",
     "text": [
      "Sorry!...Try again\n"
     ]
    },
    {
     "name": "stdin",
     "output_type": "stream",
     "text": [
      "Enter number between 1-10 7\n"
     ]
    },
    {
     "name": "stdout",
     "output_type": "stream",
     "text": [
      "You won the JACKPOT!!!\n"
     ]
    }
   ],
   "source": [
    "for i in range(3):\n",
    "    num = int(input('Enter number between 1-10'))\n",
    "    if num == 7:\n",
    "        print('You won the JACKPOT!!!')\n",
    "        break\n",
    "    else:\n",
    "        print('Sorry!...Try again')"
   ]
  },
  {
   "cell_type": "code",
   "execution_count": 39,
   "id": "c3a86917-dc7d-4c61-961a-8af0d4910cbe",
   "metadata": {},
   "outputs": [
    {
     "name": "stdin",
     "output_type": "stream",
     "text": [
      "Enter number between 1-10 4\n",
      "Enter number between 1-10 7\n"
     ]
    },
    {
     "name": "stdout",
     "output_type": "stream",
     "text": [
      "You won the JACKPOT!!!\n"
     ]
    }
   ],
   "source": [
    "x = 1\n",
    "while x < 4:\n",
    "    num = int(input('Enter number between 1-10'))\n",
    "    x = x+1\n",
    "    if num == 7:\n",
    "        print('You won the JACKPOT!!!')\n",
    "        break\n",
    "   "
   ]
  },
  {
   "cell_type": "markdown",
   "id": "7a83f0d7-91b6-4648-9a1b-f90df86b4245",
   "metadata": {},
   "source": [
    "#### List Comprehension"
   ]
  },
  {
   "cell_type": "code",
   "execution_count": 40,
   "id": "b463893c-938a-4b77-b604-3b083037dc85",
   "metadata": {},
   "outputs": [],
   "source": [
    "l1 = [1,2,3,4,5,6,7,8,9,10]"
   ]
  },
  {
   "cell_type": "code",
   "execution_count": 41,
   "id": "45d3264b-972e-4860-9b59-37494ccebe53",
   "metadata": {},
   "outputs": [
    {
     "name": "stdout",
     "output_type": "stream",
     "text": [
      "[1, 4, 9, 16, 25, 36, 49, 64, 81, 100]\n"
     ]
    }
   ],
   "source": [
    "new_list=[]\n",
    "\n",
    "for x in l1:\n",
    "    new_list.append(x**2)\n",
    "\n",
    "print(new_list)"
   ]
  },
  {
   "cell_type": "code",
   "execution_count": 42,
   "id": "d9c40dcd-2074-48b4-8086-ef5086395334",
   "metadata": {},
   "outputs": [
    {
     "data": {
      "text/plain": [
       "[1, 4, 9, 16, 25, 36, 49, 64, 81, 100]"
      ]
     },
     "execution_count": 42,
     "metadata": {},
     "output_type": "execute_result"
    }
   ],
   "source": [
    "sqr_list=[x**2 for x in l1]\n",
    "sqr_list"
   ]
  },
  {
   "cell_type": "code",
   "execution_count": 43,
   "id": "1b5ae379-6d59-49cf-80f5-805d0837fac3",
   "metadata": {},
   "outputs": [
    {
     "data": {
      "text/plain": [
       "[100, 200, 300, 400, 500, 600, 700, 800, 900, 1000]"
      ]
     },
     "execution_count": 43,
     "metadata": {},
     "output_type": "execute_result"
    }
   ],
   "source": [
    "list_100=[x*100 for x in l1]\n",
    "list_100"
   ]
  },
  {
   "cell_type": "code",
   "execution_count": 44,
   "id": "c163663f-6053-4f2d-8e32-c301b3892df2",
   "metadata": {},
   "outputs": [
    {
     "ename": "NameError",
     "evalue": "name 'rows' is not defined",
     "output_type": "error",
     "traceback": [
      "\u001b[1;31m---------------------------------------------------------------------------\u001b[0m",
      "\u001b[1;31mNameError\u001b[0m                                 Traceback (most recent call last)",
      "Cell \u001b[1;32mIn[44], line 1\u001b[0m\n\u001b[1;32m----> 1\u001b[0m \u001b[38;5;28;01mfor\u001b[39;00m i \u001b[38;5;129;01min\u001b[39;00m \u001b[38;5;28mrange\u001b[39m (\u001b[38;5;241m1\u001b[39m,rows\u001b[38;5;241m+\u001b[39m\u001b[38;5;241m1\u001b[39m):\n\u001b[0;32m      2\u001b[0m     \u001b[38;5;28mprint\u001b[39m(\u001b[38;5;124m'\u001b[39m\u001b[38;5;124m \u001b[39m\u001b[38;5;124m'\u001b[39m \u001b[38;5;241m*\u001b[39m(rows\u001b[38;5;241m-\u001b[39mi),end\u001b[38;5;241m=\u001b[39m\u001b[38;5;124m'\u001b[39m\u001b[38;5;124m'\u001b[39m)\n\u001b[0;32m      3\u001b[0m     \u001b[38;5;28mprint\u001b[39m(\u001b[38;5;124m'\u001b[39m\u001b[38;5;124m*\u001b[39m\u001b[38;5;124m'\u001b[39m \u001b[38;5;241m*\u001b[39m(\u001b[38;5;241m2\u001b[39m \u001b[38;5;241m*\u001b[39m i\u001b[38;5;241m-\u001b[39m\u001b[38;5;241m1\u001b[39m))\n",
      "\u001b[1;31mNameError\u001b[0m: name 'rows' is not defined"
     ]
    }
   ],
   "source": [
    "for i in range (1,rows+1):\n",
    "    print(' ' *(rows-i),end='')\n",
    "    print('*' *(2 * i-1))"
   ]
  },
  {
   "cell_type": "code",
   "execution_count": null,
   "id": "8d31c050-a01c-40d9-bd80-4185ec721526",
   "metadata": {},
   "outputs": [],
   "source": [
    "rows=5\n",
    "for i in range(1, rows+1):\n",
    "    print(' ' * (rows-1) + '*' * (2 * i-1))\n",
    "    "
   ]
  },
  {
   "cell_type": "markdown",
   "id": "f312b1b0-3ca0-4ef3-b3c6-0fde5f938376",
   "metadata": {},
   "source": [
    "#### Function"
   ]
  },
  {
   "cell_type": "code",
   "execution_count": null,
   "id": "86df7142-70eb-4a6b-ab66-805692f15f3a",
   "metadata": {},
   "outputs": [],
   "source": [
    "def print_line():\n",
    "    print('_'*10)"
   ]
  },
  {
   "cell_type": "code",
   "execution_count": null,
   "id": "13ff7124-3185-4ff1-85b4-94fd8c950861",
   "metadata": {},
   "outputs": [],
   "source": [
    "print_line()"
   ]
  },
  {
   "cell_type": "code",
   "execution_count": null,
   "id": "65c6fe91-77a7-463a-b2e8-96cd8cde240c",
   "metadata": {},
   "outputs": [],
   "source": [
    "def print_line(len):\n",
    "    print('_'*len)"
   ]
  },
  {
   "cell_type": "code",
   "execution_count": null,
   "id": "e122341f-ae6b-4feb-a9dc-34a021184644",
   "metadata": {},
   "outputs": [],
   "source": [
    "print_line(10)"
   ]
  },
  {
   "cell_type": "code",
   "execution_count": null,
   "id": "2e9adb63-aca9-4a77-bf08-52fdc16c6def",
   "metadata": {},
   "outputs": [],
   "source": [
    "def sqrt(x):\n",
    "    sr = x ** 0.5\n",
    "    return sr"
   ]
  },
  {
   "cell_type": "code",
   "execution_count": null,
   "id": "a706ce75-f52f-4ec1-bfaa-4408c4465517",
   "metadata": {},
   "outputs": [],
   "source": [
    "res =sqrt(9)\n",
    "res"
   ]
  },
  {
   "cell_type": "code",
   "execution_count": null,
   "id": "beb1582a-c484-41f1-94ec-960c7af813a1",
   "metadata": {},
   "outputs": [],
   "source": [
    "def avg(x,y):\n",
    "    res=(x+y)/2\n",
    "    return res"
   ]
  },
  {
   "cell_type": "code",
   "execution_count": null,
   "id": "8fa5eb9d-20a7-4632-a9cc-78908fe8857e",
   "metadata": {},
   "outputs": [],
   "source": [
    "avg(99,87)"
   ]
  },
  {
   "cell_type": "code",
   "execution_count": null,
   "id": "7f076ab8-c5e7-48a3-b727-5de217ff01b7",
   "metadata": {},
   "outputs": [],
   "source": [
    "l1=[4,7,9]"
   ]
  },
  {
   "cell_type": "code",
   "execution_count": null,
   "id": "116a67c8-de18-4cad-af0b-df6208bd7433",
   "metadata": {},
   "outputs": [],
   "source": [
    "sum(l1)/len(l1)"
   ]
  },
  {
   "cell_type": "code",
   "execution_count": null,
   "id": "c652701e-a9bd-4c50-a2d8-a26df767b357",
   "metadata": {},
   "outputs": [],
   "source": [
    "def average(lst):\n",
    "    avg = sum(lst)/len(lst)\n",
    "    return avg"
   ]
  },
  {
   "cell_type": "code",
   "execution_count": null,
   "id": "46666782-2d8e-4792-baeb-77750e91b266",
   "metadata": {},
   "outputs": [],
   "source": [
    "average([4,7,9])"
   ]
  },
  {
   "cell_type": "code",
   "execution_count": null,
   "id": "0e435ec9-d3c3-4835-9edd-33f1d31bffab",
   "metadata": {},
   "outputs": [],
   "source": [
    "def grade_of(mark):\n",
    "    if mark >= 80:\n",
    "       res = 'Distinction'\n",
    "    elif mark >= 60:\n",
    "       res = 'First class'\n",
    "    elif mark >= 40:\n",
    "       res = 'Second class'\n",
    "    else:\n",
    "       res ='Failed'\n",
    "    return res\n",
    "    "
   ]
  },
  {
   "cell_type": "code",
   "execution_count": null,
   "id": "729c8889-3d43-41e6-8721-e23624020546",
   "metadata": {},
   "outputs": [],
   "source": [
    "mygrade=grade_of(45)\n",
    "mygrade"
   ]
  },
  {
   "cell_type": "code",
   "execution_count": null,
   "id": "52232d8e-4e05-41df-9617-8fdc3e308c98",
   "metadata": {},
   "outputs": [],
   "source": [
    "def pyramid(rows):\n",
    "    for i in range(1, rows + 1):\n",
    "        print(' ' *(rows-1) + '*' * (2 * i-1))\n",
    "        \n",
    "    for i in range (1,rows+1):\n",
    "        print(' ' *(rows-i),end='')\n",
    "        print('*' *(2 * i-1))"
   ]
  },
  {
   "cell_type": "code",
   "execution_count": null,
   "id": "de16b20c-51d8-4ff6-a7a8-77137ab5324a",
   "metadata": {},
   "outputs": [],
   "source": [
    "pyramid(5)"
   ]
  },
  {
   "cell_type": "code",
   "execution_count": null,
   "id": "51aa8a91-408b-4827-a3a1-9ae8ad8feb5c",
   "metadata": {},
   "outputs": [],
   "source": [
    "def grade_list(mark_list):\n",
    "    '''\n",
    "    Parameter: A list of numbers\n",
    "    Returns: A list of drades\n",
    "    '''\n",
    "    grade_list = []\n",
    "    for mark in mark_list:\n",
    "        if mark >= 80:\n",
    "            res = 'Distinction'\n",
    "        elif mark >= 60 :\n",
    "            res = 'First Class'\n",
    "        elif mark >= 40:\n",
    "            res = 'Second Class'\n",
    "        else:\n",
    "            res ='Failed'\n",
    "        grade_list.append(res)\n",
    "\n",
    "    return grade_list    "
   ]
  },
  {
   "cell_type": "code",
   "execution_count": null,
   "id": "0239433c-8602-4aea-99d0-7c1c503445b1",
   "metadata": {},
   "outputs": [],
   "source": [
    "grade_list([34,56,78,89,901])"
   ]
  },
  {
   "cell_type": "code",
   "execution_count": null,
   "id": "def5d021-705e-4d4a-90b6-0e055e75a6b4",
   "metadata": {},
   "outputs": [],
   "source": [
    "#grade_list('Hello')"
   ]
  }
 ],
 "metadata": {
  "kernelspec": {
   "display_name": "Python 3 (ipykernel)",
   "language": "python",
   "name": "python3"
  },
  "language_info": {
   "codemirror_mode": {
    "name": "ipython",
    "version": 3
   },
   "file_extension": ".py",
   "mimetype": "text/x-python",
   "name": "python",
   "nbconvert_exporter": "python",
   "pygments_lexer": "ipython3",
   "version": "3.12.7"
  }
 },
 "nbformat": 4,
 "nbformat_minor": 5
}

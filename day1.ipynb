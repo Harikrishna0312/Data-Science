{
 "cells": [
  {
   "cell_type": "code",
   "execution_count": 9,
   "id": "9d538537-9220-40a3-be15-71a05e45c747",
   "metadata": {},
   "outputs": [
    {
     "name": "stdout",
     "output_type": "stream",
     "text": [
      "Hello World\n"
     ]
    }
   ],
   "source": [
    "print('Hello World')"
   ]
  },
  {
   "cell_type": "markdown",
   "id": "3d9a64dc-152b-4994-9395-bad90f837e5a",
   "metadata": {},
   "source": [
    "# Basic Datatypes"
   ]
  },
  {
   "cell_type": "code",
   "execution_count": 10,
   "id": "b43fc641-bcf7-476b-91d6-729a7550c23c",
   "metadata": {},
   "outputs": [],
   "source": [
    "#Integer\n",
    "x=10"
   ]
  },
  {
   "cell_type": "code",
   "execution_count": 11,
   "id": "344bcff0-fd6d-424c-8dae-8f4e70d20a97",
   "metadata": {},
   "outputs": [
    {
     "name": "stdout",
     "output_type": "stream",
     "text": [
      "10\n"
     ]
    }
   ],
   "source": [
    "print(x)"
   ]
  },
  {
   "cell_type": "code",
   "execution_count": 13,
   "id": "eaebfa0c-52e3-4a2d-a7fa-ec9fba2a85fd",
   "metadata": {},
   "outputs": [
    {
     "data": {
      "text/plain": [
       "int"
      ]
     },
     "execution_count": 13,
     "metadata": {},
     "output_type": "execute_result"
    }
   ],
   "source": [
    "type(x)"
   ]
  },
  {
   "cell_type": "code",
   "execution_count": 14,
   "id": "b136b261-3490-4863-93d3-679267b2b2d1",
   "metadata": {},
   "outputs": [],
   "source": [
    "#Float\n",
    "y=12.5"
   ]
  },
  {
   "cell_type": "code",
   "execution_count": 15,
   "id": "c0ef5982-49d8-443b-a7f0-e98d8edd0388",
   "metadata": {},
   "outputs": [
    {
     "name": "stdout",
     "output_type": "stream",
     "text": [
      "12.5\n"
     ]
    }
   ],
   "source": [
    "print(y)"
   ]
  },
  {
   "cell_type": "code",
   "execution_count": 16,
   "id": "f7118dab-a211-4ec3-8b78-b87cb97a46bf",
   "metadata": {},
   "outputs": [
    {
     "data": {
      "text/plain": [
       "float"
      ]
     },
     "execution_count": 16,
     "metadata": {},
     "output_type": "execute_result"
    }
   ],
   "source": [
    "type(y)"
   ]
  },
  {
   "cell_type": "code",
   "execution_count": 17,
   "id": "b2a37fb5-76a4-4102-8ec0-c0339c023aa6",
   "metadata": {},
   "outputs": [],
   "source": [
    "#Boolean\n",
    "z=True"
   ]
  },
  {
   "cell_type": "code",
   "execution_count": 18,
   "id": "97eeb3e4-65fb-4de5-b325-ed30bcd449b1",
   "metadata": {},
   "outputs": [
    {
     "name": "stdout",
     "output_type": "stream",
     "text": [
      "True\n"
     ]
    }
   ],
   "source": [
    "print(z)"
   ]
  },
  {
   "cell_type": "code",
   "execution_count": 19,
   "id": "17d6af5c-05a7-41b9-89b8-c3e888ac939c",
   "metadata": {},
   "outputs": [
    {
     "data": {
      "text/plain": [
       "bool"
      ]
     },
     "execution_count": 19,
     "metadata": {},
     "output_type": "execute_result"
    }
   ],
   "source": [
    "type(z)"
   ]
  },
  {
   "cell_type": "markdown",
   "id": "8f63fb2f-b67a-4b17-acaf-40f27d9d49c0",
   "metadata": {},
   "source": [
    "### Arthmetiv operations"
   ]
  },
  {
   "cell_type": "code",
   "execution_count": 32,
   "id": "a3d1f67c-e176-4b10-bf9f-98c701900c9d",
   "metadata": {},
   "outputs": [],
   "source": [
    "x=10\n",
    "y=3"
   ]
  },
  {
   "cell_type": "code",
   "execution_count": 29,
   "id": "bd8bb029-4f78-4a5a-bb4b-9509ab1994bc",
   "metadata": {},
   "outputs": [
    {
     "data": {
      "text/plain": [
       "13"
      ]
     },
     "execution_count": 29,
     "metadata": {},
     "output_type": "execute_result"
    }
   ],
   "source": [
    "# Addithion\n",
    "x+y"
   ]
  },
  {
   "cell_type": "code",
   "execution_count": 31,
   "id": "6449dbc3-5de7-4419-a1ef-19624ed4ded2",
   "metadata": {},
   "outputs": [
    {
     "data": {
      "text/plain": [
       "7"
      ]
     },
     "execution_count": 31,
     "metadata": {},
     "output_type": "execute_result"
    }
   ],
   "source": [
    "# Subtraction\n",
    "x-y"
   ]
  },
  {
   "cell_type": "code",
   "execution_count": 33,
   "id": "3638b812-6b8f-4cab-a119-efcf3f8c5290",
   "metadata": {},
   "outputs": [
    {
     "data": {
      "text/plain": [
       "30"
      ]
     },
     "execution_count": 33,
     "metadata": {},
     "output_type": "execute_result"
    }
   ],
   "source": [
    "# Multiplication\n",
    "x*y"
   ]
  },
  {
   "cell_type": "code",
   "execution_count": 34,
   "id": "d89db507-2498-474e-960c-3e90d96fd9cb",
   "metadata": {},
   "outputs": [
    {
     "data": {
      "text/plain": [
       "3.3333333333333335"
      ]
     },
     "execution_count": 34,
     "metadata": {},
     "output_type": "execute_result"
    }
   ],
   "source": [
    "# Division\n",
    "x/y"
   ]
  },
  {
   "cell_type": "code",
   "execution_count": 35,
   "id": "d5bb411f-4d65-4af8-bf95-ce8b035b932a",
   "metadata": {},
   "outputs": [
    {
     "data": {
      "text/plain": [
       "1"
      ]
     },
     "execution_count": 35,
     "metadata": {},
     "output_type": "execute_result"
    }
   ],
   "source": [
    "# Modulo Division\n",
    "x%y"
   ]
  },
  {
   "cell_type": "code",
   "execution_count": 36,
   "id": "c9f8e33f-ec64-40e5-826f-df11959d97ef",
   "metadata": {},
   "outputs": [
    {
     "data": {
      "text/plain": [
       "3"
      ]
     },
     "execution_count": 36,
     "metadata": {},
     "output_type": "execute_result"
    }
   ],
   "source": [
    "# Floor Division\n",
    "x//y"
   ]
  },
  {
   "cell_type": "code",
   "execution_count": 37,
   "id": "3bbe3eb1-5b0e-46ec-b2db-97b744b9f02b",
   "metadata": {},
   "outputs": [
    {
     "data": {
      "text/plain": [
       "1000"
      ]
     },
     "execution_count": 37,
     "metadata": {},
     "output_type": "execute_result"
    }
   ],
   "source": [
    "# power\n",
    "x**y"
   ]
  },
  {
   "cell_type": "markdown",
   "id": "7c7a4c5c-a700-451f-95a9-4aa907aaeeda",
   "metadata": {},
   "source": [
    "# Boolean Operations"
   ]
  },
  {
   "cell_type": "code",
   "execution_count": 38,
   "id": "f228f7e7-00df-4679-aaaa-e6b4659d8cf8",
   "metadata": {},
   "outputs": [],
   "source": [
    "c1=True\n",
    "c2=False"
   ]
  },
  {
   "cell_type": "code",
   "execution_count": 39,
   "id": "435619d1-1284-406d-8f6e-8bc14653d1ae",
   "metadata": {},
   "outputs": [
    {
     "data": {
      "text/plain": [
       "False"
      ]
     },
     "execution_count": 39,
     "metadata": {},
     "output_type": "execute_result"
    }
   ],
   "source": [
    "c1 and c2"
   ]
  },
  {
   "cell_type": "code",
   "execution_count": 40,
   "id": "52bb7229-907e-4b99-a027-c265d5cd0b67",
   "metadata": {},
   "outputs": [
    {
     "data": {
      "text/plain": [
       "True"
      ]
     },
     "execution_count": 40,
     "metadata": {},
     "output_type": "execute_result"
    }
   ],
   "source": [
    "c1 or c2"
   ]
  },
  {
   "cell_type": "code",
   "execution_count": 41,
   "id": "8932ea14-5bea-4876-9054-fa2d6e2cc711",
   "metadata": {},
   "outputs": [
    {
     "data": {
      "text/plain": [
       "(10, 3)"
      ]
     },
     "execution_count": 41,
     "metadata": {},
     "output_type": "execute_result"
    }
   ],
   "source": [
    "x, y"
   ]
  },
  {
   "cell_type": "code",
   "execution_count": 42,
   "id": "2a8e368d-c8c2-4a50-bc67-d68f2a0eb1cd",
   "metadata": {},
   "outputs": [
    {
     "data": {
      "text/plain": [
       "True"
      ]
     },
     "execution_count": 42,
     "metadata": {},
     "output_type": "execute_result"
    }
   ],
   "source": [
    "x > 5 or y > 5"
   ]
  },
  {
   "cell_type": "code",
   "execution_count": 43,
   "id": "b548c92d-7a22-4f83-b167-b5c2218c0a74",
   "metadata": {},
   "outputs": [
    {
     "data": {
      "text/plain": [
       "False"
      ]
     },
     "execution_count": 43,
     "metadata": {},
     "output_type": "execute_result"
    }
   ],
   "source": [
    "x > 5 and y >5"
   ]
  },
  {
   "cell_type": "code",
   "execution_count": 45,
   "id": "9eb10eda-08bc-4318-8e28-c77f4a61d4d8",
   "metadata": {},
   "outputs": [
    {
     "data": {
      "text/plain": [
       "True"
      ]
     },
     "execution_count": 45,
     "metadata": {},
     "output_type": "execute_result"
    }
   ],
   "source": [
    "x > 5 and y < 5"
   ]
  },
  {
   "cell_type": "code",
   "execution_count": null,
   "id": "499c3635-3202-473d-86a1-f70e13ccc641",
   "metadata": {},
   "outputs": [],
   "source": []
  }
 ],
 "metadata": {
  "kernelspec": {
   "display_name": "Python 3 (ipykernel)",
   "language": "python",
   "name": "python3"
  },
  "language_info": {
   "codemirror_mode": {
    "name": "ipython",
    "version": 3
   },
   "file_extension": ".py",
   "mimetype": "text/x-python",
   "name": "python",
   "nbconvert_exporter": "python",
   "pygments_lexer": "ipython3",
   "version": "3.12.7"
  }
 },
 "nbformat": 4,
 "nbformat_minor": 5
}

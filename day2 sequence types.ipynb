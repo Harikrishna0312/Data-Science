{
 "cells": [
  {
   "cell_type": "code",
   "execution_count": 1,
   "id": "ac56193b-d1cb-45c7-96db-cac3a34bb498",
   "metadata": {},
   "outputs": [
    {
     "data": {
      "text/plain": [
       "[23, 45, 76, 88, 99, 10, 34, 11, 66]"
      ]
     },
     "execution_count": 1,
     "metadata": {},
     "output_type": "execute_result"
    }
   ],
   "source": [
    "# List\n",
    "lst=[23,45,76,88,99,10,34,11,66]\n",
    "lst"
   ]
  },
  {
   "cell_type": "code",
   "execution_count": 2,
   "id": "c12ed590-9d87-431d-bfca-5d8e1f51e398",
   "metadata": {},
   "outputs": [
    {
     "data": {
      "text/plain": [
       "list"
      ]
     },
     "execution_count": 2,
     "metadata": {},
     "output_type": "execute_result"
    }
   ],
   "source": [
    "type(lst)"
   ]
  },
  {
   "cell_type": "code",
   "execution_count": 3,
   "id": "be9b07a1-0e23-4c7b-b153-8b54a694a3b3",
   "metadata": {},
   "outputs": [
    {
     "data": {
      "text/plain": [
       "['Apple', 'Soap', 'Candy', 'Butter', 'Notebook']"
      ]
     },
     "execution_count": 3,
     "metadata": {},
     "output_type": "execute_result"
    }
   ],
   "source": [
    "shop_list=['Apple','Soap','Candy','Butter','Notebook']\n",
    "shop_list"
   ]
  },
  {
   "cell_type": "code",
   "execution_count": 4,
   "id": "a9253beb-b719-44c2-af1b-f459fd902ada",
   "metadata": {},
   "outputs": [
    {
     "data": {
      "text/plain": [
       "list"
      ]
     },
     "execution_count": 4,
     "metadata": {},
     "output_type": "execute_result"
    }
   ],
   "source": [
    "type(shop_list)"
   ]
  },
  {
   "cell_type": "code",
   "execution_count": 5,
   "id": "3387914c-3dd9-450a-938d-4b98295bcbbf",
   "metadata": {},
   "outputs": [
    {
     "data": {
      "text/plain": [
       "[10, 12.5, True, [34, 56, 77], (11, 22, 33), 'Hello']"
      ]
     },
     "execution_count": 5,
     "metadata": {},
     "output_type": "execute_result"
    }
   ],
   "source": [
    "mixed_lst=[10,12.5, True, [34,56,77], (11,22,33), \"Hello\"]\n",
    "mixed_lst"
   ]
  },
  {
   "cell_type": "code",
   "execution_count": 6,
   "id": "3e210423-2b5c-4367-9d86-989b702a8730",
   "metadata": {},
   "outputs": [
    {
     "data": {
      "text/plain": [
       "(23, 45, 76, 88, 99, 10, 34, 11, 66)"
      ]
     },
     "execution_count": 6,
     "metadata": {},
     "output_type": "execute_result"
    }
   ],
   "source": [
    "#Tuple\n",
    "tup=(23,45,76,88,99,10,34,11,66)\n",
    "tup"
   ]
  },
  {
   "cell_type": "code",
   "execution_count": 7,
   "id": "866ad3e1-0db2-43dc-af40-aa14f5fffc3d",
   "metadata": {},
   "outputs": [
    {
     "data": {
      "text/plain": [
       "tuple"
      ]
     },
     "execution_count": 7,
     "metadata": {},
     "output_type": "execute_result"
    }
   ],
   "source": [
    "type(tup)"
   ]
  },
  {
   "cell_type": "code",
   "execution_count": 8,
   "id": "2d9b0bb4-d844-4f81-aa54-6d3442349071",
   "metadata": {},
   "outputs": [],
   "source": [
    "# String\n",
    "s1=\"Hello World\""
   ]
  },
  {
   "cell_type": "code",
   "execution_count": 9,
   "id": "8cad8705-3159-4061-8642-91fd613cf0c1",
   "metadata": {},
   "outputs": [
    {
     "data": {
      "text/plain": [
       "'Hello World'"
      ]
     },
     "execution_count": 9,
     "metadata": {},
     "output_type": "execute_result"
    }
   ],
   "source": [
    "s1"
   ]
  },
  {
   "cell_type": "code",
   "execution_count": 10,
   "id": "540776a2-5b9d-4b4b-bdd7-d44303452aed",
   "metadata": {},
   "outputs": [
    {
     "data": {
      "text/plain": [
       "str"
      ]
     },
     "execution_count": 10,
     "metadata": {},
     "output_type": "execute_result"
    }
   ],
   "source": [
    "type(s1)"
   ]
  },
  {
   "cell_type": "markdown",
   "id": "e6c920c0-b26b-4f03-83de-a83a9801055f",
   "metadata": {},
   "source": [
    "### Accessing Elements"
   ]
  },
  {
   "cell_type": "code",
   "execution_count": 11,
   "id": "01a397c5-40b7-4167-8e22-b68fbf02199f",
   "metadata": {},
   "outputs": [
    {
     "data": {
      "text/plain": [
       "99"
      ]
     },
     "execution_count": 11,
     "metadata": {},
     "output_type": "execute_result"
    }
   ],
   "source": [
    "lst[4]"
   ]
  },
  {
   "cell_type": "code",
   "execution_count": 12,
   "id": "77ef5e48-edc9-47b8-88a0-daabbeb6caa0",
   "metadata": {},
   "outputs": [
    {
     "data": {
      "text/plain": [
       "88"
      ]
     },
     "execution_count": 12,
     "metadata": {},
     "output_type": "execute_result"
    }
   ],
   "source": [
    "tup[3]"
   ]
  },
  {
   "cell_type": "code",
   "execution_count": 13,
   "id": "a4efa59a-6b8d-4a1b-9be4-bb6888b59dc1",
   "metadata": {},
   "outputs": [
    {
     "data": {
      "text/plain": [
       "'W'"
      ]
     },
     "execution_count": 13,
     "metadata": {},
     "output_type": "execute_result"
    }
   ],
   "source": [
    "s1[6]"
   ]
  },
  {
   "cell_type": "markdown",
   "id": "e3b9146a-df03-440d-be2b-6deb20f36c95",
   "metadata": {},
   "source": [
    "### Negative Indexing"
   ]
  },
  {
   "cell_type": "code",
   "execution_count": 14,
   "id": "44ccde90-04af-4e20-b265-3d100e959d9b",
   "metadata": {},
   "outputs": [
    {
     "data": {
      "text/plain": [
       "34"
      ]
     },
     "execution_count": 14,
     "metadata": {},
     "output_type": "execute_result"
    }
   ],
   "source": [
    "# Thirt element from end\n",
    "lst[-3]"
   ]
  },
  {
   "cell_type": "code",
   "execution_count": 15,
   "id": "e8deb847-73eb-4df4-b8e8-d3eeb1b18b8e",
   "metadata": {},
   "outputs": [
    {
     "data": {
      "text/plain": [
       "66"
      ]
     },
     "execution_count": 15,
     "metadata": {},
     "output_type": "execute_result"
    }
   ],
   "source": [
    "# Last element in the sequence\n",
    "lst[-1]"
   ]
  },
  {
   "cell_type": "code",
   "execution_count": 16,
   "id": "ae69a3c9-8763-4c0d-980d-40dc208c4bed",
   "metadata": {},
   "outputs": [
    {
     "data": {
      "text/plain": [
       "66"
      ]
     },
     "execution_count": 16,
     "metadata": {},
     "output_type": "execute_result"
    }
   ],
   "source": [
    "tup[-1]"
   ]
  },
  {
   "cell_type": "code",
   "execution_count": 17,
   "id": "5ccc763a-12b5-45d6-9287-f0eaaa30787d",
   "metadata": {},
   "outputs": [
    {
     "data": {
      "text/plain": [
       "'d'"
      ]
     },
     "execution_count": 17,
     "metadata": {},
     "output_type": "execute_result"
    }
   ],
   "source": [
    "s1[-1]"
   ]
  },
  {
   "cell_type": "code",
   "execution_count": 18,
   "id": "57fb3493-ab4f-4d6e-8f8c-fca2e7f1ff64",
   "metadata": {},
   "outputs": [
    {
     "data": {
      "text/plain": [
       "(11, 22, 33)"
      ]
     },
     "execution_count": 18,
     "metadata": {},
     "output_type": "execute_result"
    }
   ],
   "source": [
    "mixed_lst[4]"
   ]
  },
  {
   "cell_type": "code",
   "execution_count": 19,
   "id": "7445811a-2712-4ae6-a26a-aebfc86e83ba",
   "metadata": {},
   "outputs": [
    {
     "data": {
      "text/plain": [
       "22"
      ]
     },
     "execution_count": 19,
     "metadata": {},
     "output_type": "execute_result"
    }
   ],
   "source": [
    "mixed_lst[4][1]"
   ]
  },
  {
   "cell_type": "markdown",
   "id": "5fc274c5-7ea8-4513-860c-e38f8c20293e",
   "metadata": {},
   "source": [
    "### Slicing a sequence"
   ]
  },
  {
   "cell_type": "code",
   "execution_count": 20,
   "id": "9d2e5521-91d6-4fae-b101-0b00cfba4304",
   "metadata": {},
   "outputs": [
    {
     "data": {
      "text/plain": [
       "[23, 45, 76, 88, 99, 10, 34, 11, 66]"
      ]
     },
     "execution_count": 20,
     "metadata": {},
     "output_type": "execute_result"
    }
   ],
   "source": [
    "lst"
   ]
  },
  {
   "cell_type": "code",
   "execution_count": 21,
   "id": "dbdaa207-299b-415c-8956-b66860da08ea",
   "metadata": {},
   "outputs": [
    {
     "data": {
      "text/plain": [
       "[88, 99, 10, 34, 11]"
      ]
     },
     "execution_count": 21,
     "metadata": {},
     "output_type": "execute_result"
    }
   ],
   "source": [
    "lst[3:8]"
   ]
  },
  {
   "cell_type": "code",
   "execution_count": 22,
   "id": "1fd2b4bd-84ea-4a1b-9f12-aaf44a7efdb5",
   "metadata": {},
   "outputs": [
    {
     "data": {
      "text/plain": [
       "[23, 45, 76]"
      ]
     },
     "execution_count": 22,
     "metadata": {},
     "output_type": "execute_result"
    }
   ],
   "source": [
    "lst[:3]"
   ]
  },
  {
   "cell_type": "code",
   "execution_count": 23,
   "id": "cbe1bfd9-adb2-4900-981d-a0a66a4b0ce5",
   "metadata": {},
   "outputs": [
    {
     "data": {
      "text/plain": [
       "[34, 11, 66]"
      ]
     },
     "execution_count": 23,
     "metadata": {},
     "output_type": "execute_result"
    }
   ],
   "source": [
    "lst[6:]"
   ]
  },
  {
   "cell_type": "code",
   "execution_count": 24,
   "id": "978751fa-9074-4819-a408-9a08c25d251d",
   "metadata": {},
   "outputs": [
    {
     "data": {
      "text/plain": [
       "'Hello World'"
      ]
     },
     "execution_count": 24,
     "metadata": {},
     "output_type": "execute_result"
    }
   ],
   "source": [
    "s1"
   ]
  },
  {
   "cell_type": "code",
   "execution_count": 25,
   "id": "f7117bbc-eae9-4cee-a9f7-d21d1c4ecd2d",
   "metadata": {},
   "outputs": [
    {
     "data": {
      "text/plain": [
       "'World'"
      ]
     },
     "execution_count": 25,
     "metadata": {},
     "output_type": "execute_result"
    }
   ],
   "source": [
    "s1[6:]"
   ]
  },
  {
   "cell_type": "code",
   "execution_count": 26,
   "id": "396d4e51-8ee5-4368-a29f-5a3bea8c3d70",
   "metadata": {},
   "outputs": [
    {
     "data": {
      "text/plain": [
       "[45, 76, 88, 99, 10, 34, 11]"
      ]
     },
     "execution_count": 26,
     "metadata": {},
     "output_type": "execute_result"
    }
   ],
   "source": [
    "lst[1:8]"
   ]
  },
  {
   "cell_type": "code",
   "execution_count": 27,
   "id": "f09b0e29-f7fb-4eb3-8e57-e47192df6dda",
   "metadata": {},
   "outputs": [
    {
     "data": {
      "text/plain": [
       "[45, 88, 10, 11]"
      ]
     },
     "execution_count": 27,
     "metadata": {},
     "output_type": "execute_result"
    }
   ],
   "source": [
    "lst[1:8:2]"
   ]
  },
  {
   "cell_type": "code",
   "execution_count": 28,
   "id": "83c0456d-9343-41c3-9740-2f9c409352b6",
   "metadata": {},
   "outputs": [
    {
     "data": {
      "text/plain": [
       "[23, 45, 76, 88, 99, 10, 34, 11, 66]"
      ]
     },
     "execution_count": 28,
     "metadata": {},
     "output_type": "execute_result"
    }
   ],
   "source": [
    "lst[:]"
   ]
  },
  {
   "cell_type": "code",
   "execution_count": 29,
   "id": "a3a19b2d-3c90-460b-a275-87b16646f3bb",
   "metadata": {},
   "outputs": [
    {
     "data": {
      "text/plain": [
       "[66, 11, 34, 10, 99, 88, 76, 45, 23]"
      ]
     },
     "execution_count": 29,
     "metadata": {},
     "output_type": "execute_result"
    }
   ],
   "source": [
    "# Reverse a list\n",
    "lst[::-1]"
   ]
  },
  {
   "cell_type": "markdown",
   "id": "8a6d2c68-c055-4695-a542-c7c1f3c90de2",
   "metadata": {},
   "source": [
    "#### Sequence are iterable"
   ]
  },
  {
   "cell_type": "code",
   "execution_count": 30,
   "id": "c8c284dc-2e85-4035-8a17-8eef65c06c39",
   "metadata": {},
   "outputs": [
    {
     "data": {
      "text/plain": [
       "['Apple', 'Soap', 'Candy', 'Butter', 'Notebook']"
      ]
     },
     "execution_count": 30,
     "metadata": {},
     "output_type": "execute_result"
    }
   ],
   "source": [
    "shop_list"
   ]
  },
  {
   "cell_type": "code",
   "execution_count": 31,
   "id": "c48a3e5f-2af0-468c-b78e-b239d27ff39b",
   "metadata": {},
   "outputs": [
    {
     "name": "stdout",
     "output_type": "stream",
     "text": [
      "Apple\n",
      "HI\n",
      "Soap\n",
      "HI\n",
      "Candy\n",
      "HI\n",
      "Butter\n",
      "HI\n",
      "Notebook\n",
      "HI\n",
      "________\n"
     ]
    }
   ],
   "source": [
    "for x in shop_list:\n",
    "    print(x)\n",
    "    print('HI')\n",
    "print('________')"
   ]
  },
  {
   "cell_type": "code",
   "execution_count": 32,
   "id": "166a3711-1997-44d7-98f0-4f0acba1914c",
   "metadata": {},
   "outputs": [],
   "source": [
    "s1='Python3.0'"
   ]
  },
  {
   "cell_type": "code",
   "execution_count": 33,
   "id": "5ca41b50-8e50-4de7-add1-5d82b75d29e1",
   "metadata": {},
   "outputs": [
    {
     "name": "stdout",
     "output_type": "stream",
     "text": [
      "P\n",
      "<class 'str'>\n",
      "y\n",
      "<class 'str'>\n",
      "t\n",
      "<class 'str'>\n",
      "h\n",
      "<class 'str'>\n",
      "o\n",
      "<class 'str'>\n",
      "n\n",
      "<class 'str'>\n",
      "3\n",
      "<class 'str'>\n",
      ".\n",
      "<class 'str'>\n",
      "0\n",
      "<class 'str'>\n"
     ]
    }
   ],
   "source": [
    "for c in s1:\n",
    "    print(c)\n",
    "    print(type(c))"
   ]
  },
  {
   "cell_type": "code",
   "execution_count": 34,
   "id": "1d2667fb-2613-4bbc-8093-22a631d02818",
   "metadata": {},
   "outputs": [
    {
     "data": {
      "text/plain": [
       "[10, 12.5, True, [34, 56, 77], (11, 22, 33), 'Hello']"
      ]
     },
     "execution_count": 34,
     "metadata": {},
     "output_type": "execute_result"
    }
   ],
   "source": [
    "mixed_lst"
   ]
  },
  {
   "cell_type": "code",
   "execution_count": 35,
   "id": "c511524f-8fb6-484f-8c24-eca6822fc9a1",
   "metadata": {},
   "outputs": [
    {
     "name": "stdout",
     "output_type": "stream",
     "text": [
      "<class 'int'>\n",
      "<class 'float'>\n",
      "<class 'bool'>\n",
      "<class 'list'>\n",
      "<class 'tuple'>\n",
      "<class 'str'>\n"
     ]
    }
   ],
   "source": [
    "for x in mixed_lst:\n",
    "    print(type(x))"
   ]
  },
  {
   "cell_type": "markdown",
   "id": "51814cf0-01cc-4c92-a061-67f210d04413",
   "metadata": {},
   "source": [
    "### Common Function"
   ]
  },
  {
   "cell_type": "code",
   "execution_count": 36,
   "id": "de30ac46-ae94-4f24-8ad8-9397c1354dec",
   "metadata": {},
   "outputs": [
    {
     "data": {
      "text/plain": [
       "[23, 45, 76, 88, 99, 10, 34, 11, 66]"
      ]
     },
     "execution_count": 36,
     "metadata": {},
     "output_type": "execute_result"
    }
   ],
   "source": [
    "# day3\n",
    "lst"
   ]
  },
  {
   "cell_type": "code",
   "execution_count": 37,
   "id": "9c9a3fdf-1d02-4053-bb0c-5c94438a2d3d",
   "metadata": {},
   "outputs": [
    {
     "data": {
      "text/plain": [
       "9"
      ]
     },
     "execution_count": 37,
     "metadata": {},
     "output_type": "execute_result"
    }
   ],
   "source": [
    "len(lst)"
   ]
  },
  {
   "cell_type": "code",
   "execution_count": 38,
   "id": "8e4f57be-6e40-46cb-bb3e-cba106a4a6c4",
   "metadata": {},
   "outputs": [
    {
     "data": {
      "text/plain": [
       "5"
      ]
     },
     "execution_count": 38,
     "metadata": {},
     "output_type": "execute_result"
    }
   ],
   "source": [
    "len(shop_list)"
   ]
  },
  {
   "cell_type": "markdown",
   "id": "3289018c-e751-4a4d-9969-8ac8b4d213b0",
   "metadata": {},
   "source": [
    "### min & max"
   ]
  },
  {
   "cell_type": "code",
   "execution_count": 39,
   "id": "8a385582-eb53-4a8a-ae6f-ffe447ff30e2",
   "metadata": {},
   "outputs": [
    {
     "data": {
      "text/plain": [
       "10"
      ]
     },
     "execution_count": 39,
     "metadata": {},
     "output_type": "execute_result"
    }
   ],
   "source": [
    "min(lst)"
   ]
  },
  {
   "cell_type": "code",
   "execution_count": 40,
   "id": "74011456-05ad-4e8a-a11a-9c0db48aef9e",
   "metadata": {},
   "outputs": [
    {
     "data": {
      "text/plain": [
       "99"
      ]
     },
     "execution_count": 40,
     "metadata": {},
     "output_type": "execute_result"
    }
   ],
   "source": [
    "max(lst)"
   ]
  },
  {
   "cell_type": "code",
   "execution_count": 41,
   "id": "f55962e3-715d-4a11-b963-7150205ef906",
   "metadata": {},
   "outputs": [
    {
     "data": {
      "text/plain": [
       "10"
      ]
     },
     "execution_count": 41,
     "metadata": {},
     "output_type": "execute_result"
    }
   ],
   "source": [
    "min(tup)"
   ]
  },
  {
   "cell_type": "code",
   "execution_count": 42,
   "id": "23aeb852-781b-4903-bc3c-d890b6acf6d6",
   "metadata": {},
   "outputs": [
    {
     "data": {
      "text/plain": [
       "452"
      ]
     },
     "execution_count": 42,
     "metadata": {},
     "output_type": "execute_result"
    }
   ],
   "source": [
    "sum(lst)"
   ]
  },
  {
   "cell_type": "markdown",
   "id": "1d011bb9-25c6-42f3-a3ab-b95bdbc17e3a",
   "metadata": {},
   "source": [
    "### Membership Operation"
   ]
  },
  {
   "cell_type": "code",
   "execution_count": 43,
   "id": "b2c320a7-bbdb-4f2e-b944-a86240a90652",
   "metadata": {},
   "outputs": [
    {
     "data": {
      "text/plain": [
       "False"
      ]
     },
     "execution_count": 43,
     "metadata": {},
     "output_type": "execute_result"
    }
   ],
   "source": [
    "25 in lst"
   ]
  },
  {
   "cell_type": "code",
   "execution_count": 44,
   "id": "8c6f4548-5faa-4837-8733-d9b681ce4f9f",
   "metadata": {},
   "outputs": [
    {
     "data": {
      "text/plain": [
       "True"
      ]
     },
     "execution_count": 44,
     "metadata": {},
     "output_type": "execute_result"
    }
   ],
   "source": [
    "99 in lst"
   ]
  },
  {
   "cell_type": "code",
   "execution_count": 45,
   "id": "51acb453-00ab-4db0-9cc9-c4a77172058c",
   "metadata": {},
   "outputs": [
    {
     "data": {
      "text/plain": [
       "'Python3.0'"
      ]
     },
     "execution_count": 45,
     "metadata": {},
     "output_type": "execute_result"
    }
   ],
   "source": [
    "s1"
   ]
  },
  {
   "cell_type": "code",
   "execution_count": 46,
   "id": "862cf8ea-f4cb-40a0-bbd8-0368858b0de0",
   "metadata": {},
   "outputs": [
    {
     "data": {
      "text/plain": [
       "True"
      ]
     },
     "execution_count": 46,
     "metadata": {},
     "output_type": "execute_result"
    }
   ],
   "source": [
    "'y' in s1"
   ]
  },
  {
   "cell_type": "code",
   "execution_count": 47,
   "id": "6657a803-bd0d-4f13-a3c0-bd8ea0074e6f",
   "metadata": {},
   "outputs": [],
   "source": [
    "mail_id = 'gee#gmail.com'"
   ]
  },
  {
   "cell_type": "code",
   "execution_count": 48,
   "id": "834cc404-bd61-4d04-8274-a684ac1f068a",
   "metadata": {},
   "outputs": [
    {
     "name": "stdout",
     "output_type": "stream",
     "text": [
      "In valid email\n"
     ]
    }
   ],
   "source": [
    "if '@' in  mail_id:\n",
    "    print('Valid Mail')\n",
    "else:\n",
    "    print('In valid email')"
   ]
  },
  {
   "cell_type": "markdown",
   "id": "f6208931-f8ac-4e4a-ad1c-802f7346bae4",
   "metadata": {},
   "source": [
    "### Arthmatic operations"
   ]
  },
  {
   "cell_type": "markdown",
   "id": "33b9d36c-1294-462e-afaf-1d65787fda8e",
   "metadata": {},
   "source": [
    "### +-Concat"
   ]
  },
  {
   "cell_type": "code",
   "execution_count": 49,
   "id": "243fa673-42f6-4694-9274-421b316f3607",
   "metadata": {},
   "outputs": [],
   "source": [
    "l1=[1,2,3]\n",
    "l2=[4,5,6]"
   ]
  },
  {
   "cell_type": "code",
   "execution_count": 50,
   "id": "8fb454bd-ba2e-4280-b6fe-1f67f48e8110",
   "metadata": {},
   "outputs": [
    {
     "data": {
      "text/plain": [
       "[1, 2, 3, 4, 5, 6]"
      ]
     },
     "execution_count": 50,
     "metadata": {},
     "output_type": "execute_result"
    }
   ],
   "source": [
    "l1+l2"
   ]
  },
  {
   "cell_type": "markdown",
   "id": "3347ed21-b842-4b66-b731-c7796cc65ca6",
   "metadata": {},
   "source": [
    "#### *-Repetion"
   ]
  },
  {
   "cell_type": "code",
   "execution_count": 51,
   "id": "07243c22-77cf-4d59-b530-60ca4ad4a4b7",
   "metadata": {},
   "outputs": [
    {
     "data": {
      "text/plain": [
       "[1, 2, 3]"
      ]
     },
     "execution_count": 51,
     "metadata": {},
     "output_type": "execute_result"
    }
   ],
   "source": [
    "l1"
   ]
  },
  {
   "cell_type": "code",
   "execution_count": 52,
   "id": "9ee8c182-1e62-48c6-835b-3478c9c93eda",
   "metadata": {},
   "outputs": [
    {
     "data": {
      "text/plain": [
       "[1, 2, 3, 1, 2, 3, 1, 2, 3]"
      ]
     },
     "execution_count": 52,
     "metadata": {},
     "output_type": "execute_result"
    }
   ],
   "source": [
    "3*l1"
   ]
  },
  {
   "cell_type": "code",
   "execution_count": 53,
   "id": "6336f2f7-9129-4011-9c7f-7ab1502decc0",
   "metadata": {},
   "outputs": [],
   "source": [
    "s3='Hello '"
   ]
  },
  {
   "cell_type": "code",
   "execution_count": 54,
   "id": "f70e0496-4a86-43d6-8458-f05e41665693",
   "metadata": {},
   "outputs": [
    {
     "data": {
      "text/plain": [
       "'Hello Hello Hello '"
      ]
     },
     "execution_count": 54,
     "metadata": {},
     "output_type": "execute_result"
    }
   ],
   "source": [
    "3 * s3"
   ]
  },
  {
   "cell_type": "code",
   "execution_count": 55,
   "id": "a053296d-8030-4652-baf3-fcb0f668f250",
   "metadata": {},
   "outputs": [
    {
     "name": "stdout",
     "output_type": "stream",
     "text": [
      "__________________________________________________________________________________________\n"
     ]
    }
   ],
   "source": [
    "print('_'*90)"
   ]
  },
  {
   "cell_type": "markdown",
   "id": "6265e801-b5bf-41c0-bfc1-9157c5f96518",
   "metadata": {},
   "source": [
    "# List Specific Methods"
   ]
  },
  {
   "cell_type": "code",
   "execution_count": 56,
   "id": "f52432aa-9f00-4dcb-9d69-beefda02658e",
   "metadata": {},
   "outputs": [
    {
     "data": {
      "text/plain": [
       "['__add__',\n",
       " '__class__',\n",
       " '__class_getitem__',\n",
       " '__contains__',\n",
       " '__delattr__',\n",
       " '__delitem__',\n",
       " '__dir__',\n",
       " '__doc__',\n",
       " '__eq__',\n",
       " '__format__',\n",
       " '__ge__',\n",
       " '__getattribute__',\n",
       " '__getitem__',\n",
       " '__getstate__',\n",
       " '__gt__',\n",
       " '__hash__',\n",
       " '__iadd__',\n",
       " '__imul__',\n",
       " '__init__',\n",
       " '__init_subclass__',\n",
       " '__iter__',\n",
       " '__le__',\n",
       " '__len__',\n",
       " '__lt__',\n",
       " '__mul__',\n",
       " '__ne__',\n",
       " '__new__',\n",
       " '__reduce__',\n",
       " '__reduce_ex__',\n",
       " '__repr__',\n",
       " '__reversed__',\n",
       " '__rmul__',\n",
       " '__setattr__',\n",
       " '__setitem__',\n",
       " '__sizeof__',\n",
       " '__str__',\n",
       " '__subclasshook__',\n",
       " 'append',\n",
       " 'clear',\n",
       " 'copy',\n",
       " 'count',\n",
       " 'extend',\n",
       " 'index',\n",
       " 'insert',\n",
       " 'pop',\n",
       " 'remove',\n",
       " 'reverse',\n",
       " 'sort']"
      ]
     },
     "execution_count": 56,
     "metadata": {},
     "output_type": "execute_result"
    }
   ],
   "source": [
    "dir(list)"
   ]
  },
  {
   "cell_type": "markdown",
   "id": "c532310c-6318-4823-8c46-305b2949e9c3",
   "metadata": {},
   "source": [
    " ### Add Elements to a list"
   ]
  },
  {
   "cell_type": "code",
   "execution_count": 57,
   "id": "b0f766e9-b32b-4891-9557-4c5b2bc98670",
   "metadata": {},
   "outputs": [],
   "source": [
    "mylst=[56,78,45,33,89]"
   ]
  },
  {
   "cell_type": "code",
   "execution_count": 58,
   "id": "c349862c-42a0-48c5-acdc-2438b24b36b4",
   "metadata": {},
   "outputs": [
    {
     "data": {
      "text/plain": [
       "[56, 78, 45, 33, 89, 77]"
      ]
     },
     "execution_count": 58,
     "metadata": {},
     "output_type": "execute_result"
    }
   ],
   "source": [
    "mylst.append(77)\n",
    "mylst"
   ]
  },
  {
   "cell_type": "code",
   "execution_count": 59,
   "id": "c7b6c038-cafd-4de8-978d-94b424f62a99",
   "metadata": {},
   "outputs": [
    {
     "data": {
      "text/plain": [
       "['Apple', 'Soap', 'Candy', 'Butter', 'Notebook']"
      ]
     },
     "execution_count": 59,
     "metadata": {},
     "output_type": "execute_result"
    }
   ],
   "source": [
    "shop_list"
   ]
  },
  {
   "cell_type": "code",
   "execution_count": 60,
   "id": "828000b3-de2e-46dd-b124-8741c35e39bd",
   "metadata": {},
   "outputs": [
    {
     "data": {
      "text/plain": [
       "['Apple', 'Soap', 'Candy', 'Butter', 'Notebook', 'jam']"
      ]
     },
     "execution_count": 60,
     "metadata": {},
     "output_type": "execute_result"
    }
   ],
   "source": [
    "shop_list.append('jam')\n",
    "shop_list"
   ]
  },
  {
   "cell_type": "code",
   "execution_count": 61,
   "id": "7ec8704c-4880-44a6-b98e-966cafeb049e",
   "metadata": {},
   "outputs": [
    {
     "data": {
      "text/plain": [
       "[56, 78, 100, 45, 33, 89, 77]"
      ]
     },
     "execution_count": 61,
     "metadata": {},
     "output_type": "execute_result"
    }
   ],
   "source": [
    "mylst.insert(2,100)\n",
    "mylst"
   ]
  },
  {
   "cell_type": "code",
   "execution_count": 62,
   "id": "3da236f5-2091-47ec-8ee2-316214148ea1",
   "metadata": {},
   "outputs": [
    {
     "data": {
      "text/plain": [
       "['Apple', 'Soap', 'Candy', 'Butter', 'Bread', 'Notebook', 'jam']"
      ]
     },
     "execution_count": 62,
     "metadata": {},
     "output_type": "execute_result"
    }
   ],
   "source": [
    "shop_list.insert(4,'Bread')\n",
    "shop_list"
   ]
  },
  {
   "cell_type": "code",
   "execution_count": 63,
   "id": "cc0b299a-56f2-4a80-8347-e1c56e03ea3c",
   "metadata": {},
   "outputs": [],
   "source": [
    "mylst.extend([11,12,13])"
   ]
  },
  {
   "cell_type": "code",
   "execution_count": 64,
   "id": "ea8894fc-fb64-4950-8d73-e2d194ddec13",
   "metadata": {},
   "outputs": [
    {
     "data": {
      "text/plain": [
       "[56, 78, 100, 45, 33, 89, 77, 11, 12, 13]"
      ]
     },
     "execution_count": 64,
     "metadata": {},
     "output_type": "execute_result"
    }
   ],
   "source": [
    "mylst"
   ]
  },
  {
   "cell_type": "code",
   "execution_count": 65,
   "id": "026e5a1e-8f58-4784-9f50-6f4f06bd1a2a",
   "metadata": {},
   "outputs": [
    {
     "data": {
      "text/plain": [
       "['Apple', 'Soap', 'Candy', 'Butter', 'Bread', 'Notebook', 'jam', 'x', 'y', 'z']"
      ]
     },
     "execution_count": 65,
     "metadata": {},
     "output_type": "execute_result"
    }
   ],
   "source": [
    "shop_list.extend('xyz')\n",
    "shop_list"
   ]
  },
  {
   "cell_type": "code",
   "execution_count": 66,
   "id": "43ec87f2-4a1f-4749-bf57-22c1860829b5",
   "metadata": {},
   "outputs": [
    {
     "data": {
      "text/plain": [
       "[56, 78, 100, 45, 33, 89, 77, 11, 12, 13, 123]"
      ]
     },
     "execution_count": 66,
     "metadata": {},
     "output_type": "execute_result"
    }
   ],
   "source": [
    "mylst.extend([123])\n",
    "mylst"
   ]
  },
  {
   "cell_type": "markdown",
   "id": "5c348901-fb1a-4e93-8b79-366700f17151",
   "metadata": {},
   "source": [
    "##### Remove elements from a list"
   ]
  },
  {
   "cell_type": "code",
   "execution_count": 67,
   "id": "38fcc67c-c4fc-4d25-9915-6fe6dd4f40cf",
   "metadata": {},
   "outputs": [
    {
     "data": {
      "text/plain": [
       "[23, 45, 76, 88, 99, 10, 34, 11, 66]"
      ]
     },
     "execution_count": 67,
     "metadata": {},
     "output_type": "execute_result"
    }
   ],
   "source": [
    "lst"
   ]
  },
  {
   "cell_type": "code",
   "execution_count": 68,
   "id": "f3020a9b-3790-4dd8-b0e4-57dedb1c7a31",
   "metadata": {},
   "outputs": [
    {
     "data": {
      "text/plain": [
       "66"
      ]
     },
     "execution_count": 68,
     "metadata": {},
     "output_type": "execute_result"
    }
   ],
   "source": [
    "lst.pop()"
   ]
  },
  {
   "cell_type": "code",
   "execution_count": 69,
   "id": "efe06e3e-4599-4cac-89da-01f3f1aabaa5",
   "metadata": {},
   "outputs": [
    {
     "data": {
      "text/plain": [
       "11"
      ]
     },
     "execution_count": 69,
     "metadata": {},
     "output_type": "execute_result"
    }
   ],
   "source": [
    "lst.pop()"
   ]
  },
  {
   "cell_type": "code",
   "execution_count": 70,
   "id": "95b092b4-9b2c-4249-9cb7-0eb228535705",
   "metadata": {},
   "outputs": [
    {
     "data": {
      "text/plain": [
       "[23, 45, 76, 88, 99, 10, 34]"
      ]
     },
     "execution_count": 70,
     "metadata": {},
     "output_type": "execute_result"
    }
   ],
   "source": [
    "lst"
   ]
  },
  {
   "cell_type": "code",
   "execution_count": 71,
   "id": "9c6ece50-51f2-451f-9f5f-ba78c6bb0f0c",
   "metadata": {},
   "outputs": [
    {
     "data": {
      "text/plain": [
       "76"
      ]
     },
     "execution_count": 71,
     "metadata": {},
     "output_type": "execute_result"
    }
   ],
   "source": [
    "lst.pop(2)"
   ]
  },
  {
   "cell_type": "code",
   "execution_count": 72,
   "id": "57046f8e-87fa-4d54-bb5d-ce7c0dde1fb6",
   "metadata": {},
   "outputs": [
    {
     "data": {
      "text/plain": [
       "[23, 45, 88, 99, 10, 34]"
      ]
     },
     "execution_count": 72,
     "metadata": {},
     "output_type": "execute_result"
    }
   ],
   "source": [
    "lst"
   ]
  },
  {
   "cell_type": "code",
   "execution_count": 73,
   "id": "37d873b9-bc69-497f-a06a-82adfaccd42e",
   "metadata": {},
   "outputs": [
    {
     "data": {
      "text/plain": [
       "10"
      ]
     },
     "execution_count": 73,
     "metadata": {},
     "output_type": "execute_result"
    }
   ],
   "source": [
    "lst.pop(-2)"
   ]
  },
  {
   "cell_type": "code",
   "execution_count": 74,
   "id": "a1141efb-8832-45ef-9350-19be5cd20351",
   "metadata": {},
   "outputs": [
    {
     "data": {
      "text/plain": [
       "['Apple', 'Soap', 'Candy', 'Butter', 'Bread', 'Notebook', 'x', 'y', 'z']"
      ]
     },
     "execution_count": 74,
     "metadata": {},
     "output_type": "execute_result"
    }
   ],
   "source": [
    "shop_list.remove('jam')\n",
    "shop_list"
   ]
  },
  {
   "cell_type": "code",
   "execution_count": 75,
   "id": "1e181ebf-b3c7-4896-a9b9-f33899031c65",
   "metadata": {},
   "outputs": [
    {
     "data": {
      "text/plain": [
       "[]"
      ]
     },
     "execution_count": 75,
     "metadata": {},
     "output_type": "execute_result"
    }
   ],
   "source": [
    "lst.clear()\n",
    "lst"
   ]
  },
  {
   "cell_type": "markdown",
   "id": "756e587e-e580-4f69-99b4-c1ecd3e8f9cd",
   "metadata": {},
   "source": [
    "#### Arrange elements in order"
   ]
  },
  {
   "cell_type": "code",
   "execution_count": 76,
   "id": "5306930c-0b41-4036-9444-e839b7a3aeb5",
   "metadata": {},
   "outputs": [],
   "source": [
    "lst2=[56,77,23,44,11,87,60]"
   ]
  },
  {
   "cell_type": "code",
   "execution_count": 77,
   "id": "798d0e82-4115-4f51-9190-99a46bfe118c",
   "metadata": {},
   "outputs": [
    {
     "data": {
      "text/plain": [
       "[11, 23, 44, 56, 60, 77, 87]"
      ]
     },
     "execution_count": 77,
     "metadata": {},
     "output_type": "execute_result"
    }
   ],
   "source": [
    "lst2.sort()\n",
    "lst2"
   ]
  },
  {
   "cell_type": "code",
   "execution_count": 78,
   "id": "7643f579-26fe-44cb-93eb-144e2ef1a96d",
   "metadata": {},
   "outputs": [
    {
     "data": {
      "text/plain": [
       "[87, 77, 60, 56, 44, 23, 11]"
      ]
     },
     "execution_count": 78,
     "metadata": {},
     "output_type": "execute_result"
    }
   ],
   "source": [
    "lst2.sort(reverse=True)\n",
    "lst2"
   ]
  },
  {
   "cell_type": "code",
   "execution_count": 79,
   "id": "6cd9d8f3-ca9d-46f4-a799-c659e047f110",
   "metadata": {},
   "outputs": [
    {
     "data": {
      "text/plain": [
       "['Apple', 'Bread', 'Butter', 'Candy', 'Notebook', 'Soap', 'x', 'y', 'z']"
      ]
     },
     "execution_count": 79,
     "metadata": {},
     "output_type": "execute_result"
    }
   ],
   "source": [
    "shop_list.sort()\n",
    "shop_list"
   ]
  },
  {
   "cell_type": "code",
   "execution_count": 80,
   "id": "ebede729-7114-4820-b424-c2824821bc75",
   "metadata": {},
   "outputs": [],
   "source": [
    "l1 = [23,44,11]"
   ]
  },
  {
   "cell_type": "code",
   "execution_count": 81,
   "id": "d0cf5dfc-9f74-4b59-827d-9b09061bd223",
   "metadata": {},
   "outputs": [
    {
     "data": {
      "text/plain": [
       "[11, 44, 23]"
      ]
     },
     "execution_count": 81,
     "metadata": {},
     "output_type": "execute_result"
    }
   ],
   "source": [
    "l1.reverse()\n",
    "l1"
   ]
  },
  {
   "cell_type": "code",
   "execution_count": 82,
   "id": "a1a15b3a-3f59-477d-984c-fdbb4fbbc3c4",
   "metadata": {},
   "outputs": [
    {
     "data": {
      "text/plain": [
       "[23, 44, 11]"
      ]
     },
     "execution_count": 82,
     "metadata": {},
     "output_type": "execute_result"
    }
   ],
   "source": [
    "l1[::-1]"
   ]
  },
  {
   "cell_type": "code",
   "execution_count": 83,
   "id": "dcb41ce8-8032-4ecb-8400-f2e393880b24",
   "metadata": {},
   "outputs": [],
   "source": [
    "l2= [11,67,34]"
   ]
  },
  {
   "cell_type": "code",
   "execution_count": 84,
   "id": "aa883af2-3a59-444b-b9a4-2cfa48bd78a4",
   "metadata": {},
   "outputs": [
    {
     "data": {
      "text/plain": [
       "[34, 67, 11]"
      ]
     },
     "execution_count": 84,
     "metadata": {},
     "output_type": "execute_result"
    }
   ],
   "source": [
    "l2[::-1]"
   ]
  },
  {
   "cell_type": "code",
   "execution_count": 85,
   "id": "efd8650a-738a-4bf6-8ba8-4e9e2ee95745",
   "metadata": {},
   "outputs": [
    {
     "data": {
      "text/plain": [
       "[11, 67, 34]"
      ]
     },
     "execution_count": 85,
     "metadata": {},
     "output_type": "execute_result"
    }
   ],
   "source": [
    "l2"
   ]
  },
  {
   "cell_type": "code",
   "execution_count": 86,
   "id": "dd7dec19-a5e7-4dd7-8342-386cdaa20db5",
   "metadata": {},
   "outputs": [
    {
     "data": {
      "text/plain": [
       "[34, 67, 11]"
      ]
     },
     "execution_count": 86,
     "metadata": {},
     "output_type": "execute_result"
    }
   ],
   "source": [
    "l3=l2[::-1]\n",
    "l3"
   ]
  },
  {
   "cell_type": "code",
   "execution_count": 87,
   "id": "1eb27fbb-3eb0-41dc-8442-71fcbe4889b7",
   "metadata": {},
   "outputs": [
    {
     "data": {
      "text/plain": [
       "[11, 67, 34]"
      ]
     },
     "execution_count": 87,
     "metadata": {},
     "output_type": "execute_result"
    }
   ],
   "source": [
    "l2"
   ]
  },
  {
   "cell_type": "code",
   "execution_count": 88,
   "id": "a5970937-0972-4039-b063-8ddece839bce",
   "metadata": {},
   "outputs": [],
   "source": [
    "l2.reverse()"
   ]
  },
  {
   "cell_type": "code",
   "execution_count": 89,
   "id": "88a54755-fba8-4ec8-bc3e-c2057dc82d44",
   "metadata": {},
   "outputs": [
    {
     "data": {
      "text/plain": [
       "[34, 67, 11]"
      ]
     },
     "execution_count": 89,
     "metadata": {},
     "output_type": "execute_result"
    }
   ],
   "source": [
    "l2"
   ]
  },
  {
   "cell_type": "markdown",
   "id": "c8a81b3d-6a5c-4481-929c-f9ce6fee21bf",
   "metadata": {},
   "source": [
    "#### Count"
   ]
  },
  {
   "cell_type": "code",
   "execution_count": 90,
   "id": "eb5a2113-6a26-42d4-932f-7df4c9e23da3",
   "metadata": {},
   "outputs": [],
   "source": [
    "names=['Tom','Tim','Jim','Tom','Kim','Tom']"
   ]
  },
  {
   "cell_type": "code",
   "execution_count": 91,
   "id": "c16fea19-e047-4d4f-8150-ab1f8252c179",
   "metadata": {},
   "outputs": [
    {
     "data": {
      "text/plain": [
       "3"
      ]
     },
     "execution_count": 91,
     "metadata": {},
     "output_type": "execute_result"
    }
   ],
   "source": [
    "names.count('Tom')"
   ]
  },
  {
   "cell_type": "code",
   "execution_count": 92,
   "id": "dc48cca0-6346-4367-a9a7-aa4670270e33",
   "metadata": {},
   "outputs": [],
   "source": [
    "mylst=[56,78,45,33,89]"
   ]
  },
  {
   "cell_type": "code",
   "execution_count": 93,
   "id": "acfe9f0b-c070-4730-b3f2-a4e0310eaca8",
   "metadata": {},
   "outputs": [
    {
     "data": {
      "text/plain": [
       "0"
      ]
     },
     "execution_count": 93,
     "metadata": {},
     "output_type": "execute_result"
    }
   ],
   "source": [
    "mylst.count(18)"
   ]
  },
  {
   "cell_type": "code",
   "execution_count": 94,
   "id": "4d45d7e4-a604-4749-93ae-15b0a5e4bc1c",
   "metadata": {},
   "outputs": [
    {
     "data": {
      "text/plain": [
       "1"
      ]
     },
     "execution_count": 94,
     "metadata": {},
     "output_type": "execute_result"
    }
   ],
   "source": [
    "mylst.count(89)"
   ]
  },
  {
   "cell_type": "code",
   "execution_count": 95,
   "id": "c6f6d8a7-7049-418b-9e93-e89a299fe224",
   "metadata": {},
   "outputs": [
    {
     "data": {
      "text/plain": [
       "1"
      ]
     },
     "execution_count": 95,
     "metadata": {},
     "output_type": "execute_result"
    }
   ],
   "source": [
    "shop_list.index('Bread')"
   ]
  },
  {
   "cell_type": "code",
   "execution_count": 96,
   "id": "5e371a8c-f200-4ca0-a91b-6fc89272cf3f",
   "metadata": {},
   "outputs": [
    {
     "data": {
      "text/plain": [
       "['Apple', 'Bread', 'Butter', 'Candy', 'Notebook', 'Soap', 'x', 'y', 'z']"
      ]
     },
     "execution_count": 96,
     "metadata": {},
     "output_type": "execute_result"
    }
   ],
   "source": [
    "shop_list"
   ]
  },
  {
   "cell_type": "code",
   "execution_count": 97,
   "id": "9d4dfcf0-ff55-418e-b197-e7a627eea4bc",
   "metadata": {},
   "outputs": [
    {
     "data": {
      "text/plain": [
       "0"
      ]
     },
     "execution_count": 97,
     "metadata": {},
     "output_type": "execute_result"
    }
   ],
   "source": [
    "names.index('Tom')"
   ]
  },
  {
   "cell_type": "markdown",
   "id": "58ccf6df-4767-4fbe-bb44-6d75f474c6f2",
   "metadata": {},
   "source": [
    "### Copy"
   ]
  },
  {
   "cell_type": "markdown",
   "id": "8f934ed5-db4e-43c8-843d-da53fddbbd00",
   "metadata": {},
   "source": [
    "#### Assignment"
   ]
  },
  {
   "cell_type": "code",
   "execution_count": 98,
   "id": "02112168-2e5f-497d-9092-88f2a3f980e5",
   "metadata": {},
   "outputs": [],
   "source": [
    "l1 = [1,2,3]"
   ]
  },
  {
   "cell_type": "code",
   "execution_count": 99,
   "id": "1cbf2603-ac7e-49a1-b5a9-4ce5bd511b66",
   "metadata": {},
   "outputs": [],
   "source": [
    "l2=l1"
   ]
  },
  {
   "cell_type": "code",
   "execution_count": 100,
   "id": "70bca6c2-6480-4e63-85c0-1a93ae367911",
   "metadata": {},
   "outputs": [],
   "source": [
    "l2.append(100)"
   ]
  },
  {
   "cell_type": "code",
   "execution_count": 101,
   "id": "c9c888d3-71ce-410d-9410-546d81c575c9",
   "metadata": {},
   "outputs": [
    {
     "data": {
      "text/plain": [
       "[1, 2, 3, 100]"
      ]
     },
     "execution_count": 101,
     "metadata": {},
     "output_type": "execute_result"
    }
   ],
   "source": [
    "l2"
   ]
  },
  {
   "cell_type": "code",
   "execution_count": 102,
   "id": "aa43b7ab-612e-4570-94bc-e740d04c0d1c",
   "metadata": {},
   "outputs": [
    {
     "data": {
      "text/plain": [
       "[1, 2, 3, 100]"
      ]
     },
     "execution_count": 102,
     "metadata": {},
     "output_type": "execute_result"
    }
   ],
   "source": [
    "l1"
   ]
  },
  {
   "cell_type": "markdown",
   "id": "acc824b8-2b80-4738-b3a7-6da168d054fc",
   "metadata": {},
   "source": [
    "#### Copy ()"
   ]
  },
  {
   "cell_type": "code",
   "execution_count": 103,
   "id": "f42a554b-a364-4222-b91c-5d289a2e6203",
   "metadata": {},
   "outputs": [],
   "source": [
    "l1=[1,2,3]"
   ]
  },
  {
   "cell_type": "code",
   "execution_count": 104,
   "id": "1174ee15-7a1f-45c3-968f-bbfe095333df",
   "metadata": {},
   "outputs": [],
   "source": [
    "l2=l1.copy()"
   ]
  },
  {
   "cell_type": "code",
   "execution_count": 105,
   "id": "be3562a5-3d4a-4064-a4ec-ac5335202657",
   "metadata": {},
   "outputs": [],
   "source": [
    "l2.append(100)"
   ]
  },
  {
   "cell_type": "code",
   "execution_count": 106,
   "id": "4f3848ca-2534-4150-85e8-de18db936fb4",
   "metadata": {},
   "outputs": [
    {
     "data": {
      "text/plain": [
       "[1, 2, 3, 100]"
      ]
     },
     "execution_count": 106,
     "metadata": {},
     "output_type": "execute_result"
    }
   ],
   "source": [
    "l2"
   ]
  },
  {
   "cell_type": "code",
   "execution_count": 107,
   "id": "38231d18-85ce-45bb-a3da-23ac345e1351",
   "metadata": {},
   "outputs": [
    {
     "data": {
      "text/plain": [
       "[1, 2, 3]"
      ]
     },
     "execution_count": 107,
     "metadata": {},
     "output_type": "execute_result"
    }
   ],
   "source": [
    "l1"
   ]
  },
  {
   "cell_type": "markdown",
   "id": "8a3beaed-f44d-41b6-9cc1-07bafac0eaf4",
   "metadata": {},
   "source": [
    "#### Tuple Specfic Methods"
   ]
  },
  {
   "cell_type": "code",
   "execution_count": 108,
   "id": "09ba5b5b-805f-4c03-8fed-b82f7cce4514",
   "metadata": {},
   "outputs": [
    {
     "data": {
      "text/plain": [
       "['__add__',\n",
       " '__class__',\n",
       " '__class_getitem__',\n",
       " '__contains__',\n",
       " '__delattr__',\n",
       " '__dir__',\n",
       " '__doc__',\n",
       " '__eq__',\n",
       " '__format__',\n",
       " '__ge__',\n",
       " '__getattribute__',\n",
       " '__getitem__',\n",
       " '__getnewargs__',\n",
       " '__getstate__',\n",
       " '__gt__',\n",
       " '__hash__',\n",
       " '__init__',\n",
       " '__init_subclass__',\n",
       " '__iter__',\n",
       " '__le__',\n",
       " '__len__',\n",
       " '__lt__',\n",
       " '__mul__',\n",
       " '__ne__',\n",
       " '__new__',\n",
       " '__reduce__',\n",
       " '__reduce_ex__',\n",
       " '__repr__',\n",
       " '__rmul__',\n",
       " '__setattr__',\n",
       " '__sizeof__',\n",
       " '__str__',\n",
       " '__subclasshook__',\n",
       " 'count',\n",
       " 'index']"
      ]
     },
     "execution_count": 108,
     "metadata": {},
     "output_type": "execute_result"
    }
   ],
   "source": [
    "dir(tuple)"
   ]
  },
  {
   "cell_type": "code",
   "execution_count": 109,
   "id": "494a8fef-16d9-4662-b7d3-58a352014edc",
   "metadata": {},
   "outputs": [],
   "source": [
    "t1=(9,2,3,2,4,5,2,3)"
   ]
  },
  {
   "cell_type": "code",
   "execution_count": 110,
   "id": "2fbe1fc2-3f9e-40e7-bc83-b84f7067f7f7",
   "metadata": {},
   "outputs": [
    {
     "data": {
      "text/plain": [
       "3"
      ]
     },
     "execution_count": 110,
     "metadata": {},
     "output_type": "execute_result"
    }
   ],
   "source": [
    "t1.count(2)"
   ]
  },
  {
   "cell_type": "code",
   "execution_count": 111,
   "id": "e673181b-b48e-4f14-b73a-f4a7dbebc4f6",
   "metadata": {},
   "outputs": [
    {
     "data": {
      "text/plain": [
       "5"
      ]
     },
     "execution_count": 111,
     "metadata": {},
     "output_type": "execute_result"
    }
   ],
   "source": [
    "t1.index(5)"
   ]
  },
  {
   "cell_type": "markdown",
   "id": "e6264a9c-bc0b-4664-8a51-5d8dfd0bb767",
   "metadata": {},
   "source": [
    "#### String Specific Methods"
   ]
  },
  {
   "cell_type": "code",
   "execution_count": 112,
   "id": "42718961-3ba5-476f-907a-e30f6014b4cf",
   "metadata": {},
   "outputs": [
    {
     "data": {
      "text/plain": [
       "['__add__',\n",
       " '__class__',\n",
       " '__contains__',\n",
       " '__delattr__',\n",
       " '__dir__',\n",
       " '__doc__',\n",
       " '__eq__',\n",
       " '__format__',\n",
       " '__ge__',\n",
       " '__getattribute__',\n",
       " '__getitem__',\n",
       " '__getnewargs__',\n",
       " '__getstate__',\n",
       " '__gt__',\n",
       " '__hash__',\n",
       " '__init__',\n",
       " '__init_subclass__',\n",
       " '__iter__',\n",
       " '__le__',\n",
       " '__len__',\n",
       " '__lt__',\n",
       " '__mod__',\n",
       " '__mul__',\n",
       " '__ne__',\n",
       " '__new__',\n",
       " '__reduce__',\n",
       " '__reduce_ex__',\n",
       " '__repr__',\n",
       " '__rmod__',\n",
       " '__rmul__',\n",
       " '__setattr__',\n",
       " '__sizeof__',\n",
       " '__str__',\n",
       " '__subclasshook__',\n",
       " 'capitalize',\n",
       " 'casefold',\n",
       " 'center',\n",
       " 'count',\n",
       " 'encode',\n",
       " 'endswith',\n",
       " 'expandtabs',\n",
       " 'find',\n",
       " 'format',\n",
       " 'format_map',\n",
       " 'index',\n",
       " 'isalnum',\n",
       " 'isalpha',\n",
       " 'isascii',\n",
       " 'isdecimal',\n",
       " 'isdigit',\n",
       " 'isidentifier',\n",
       " 'islower',\n",
       " 'isnumeric',\n",
       " 'isprintable',\n",
       " 'isspace',\n",
       " 'istitle',\n",
       " 'isupper',\n",
       " 'join',\n",
       " 'ljust',\n",
       " 'lower',\n",
       " 'lstrip',\n",
       " 'maketrans',\n",
       " 'partition',\n",
       " 'removeprefix',\n",
       " 'removesuffix',\n",
       " 'replace',\n",
       " 'rfind',\n",
       " 'rindex',\n",
       " 'rjust',\n",
       " 'rpartition',\n",
       " 'rsplit',\n",
       " 'rstrip',\n",
       " 'split',\n",
       " 'splitlines',\n",
       " 'startswith',\n",
       " 'strip',\n",
       " 'swapcase',\n",
       " 'title',\n",
       " 'translate',\n",
       " 'upper',\n",
       " 'zfill']"
      ]
     },
     "execution_count": 112,
     "metadata": {},
     "output_type": "execute_result"
    }
   ],
   "source": [
    "dir(str)"
   ]
  },
  {
   "cell_type": "code",
   "execution_count": 113,
   "id": "698f4355-eaf2-41e2-abb8-1768b80012a2",
   "metadata": {},
   "outputs": [],
   "source": [
    "s1 = 'i love python'"
   ]
  },
  {
   "cell_type": "code",
   "execution_count": 114,
   "id": "df81d30f-2abc-464b-9386-c154123371fe",
   "metadata": {},
   "outputs": [],
   "source": [
    "s2=s1.upper()"
   ]
  },
  {
   "cell_type": "code",
   "execution_count": 115,
   "id": "d835433a-1487-4655-9b02-e7f1b06093ff",
   "metadata": {},
   "outputs": [
    {
     "data": {
      "text/plain": [
       "'i love python'"
      ]
     },
     "execution_count": 115,
     "metadata": {},
     "output_type": "execute_result"
    }
   ],
   "source": [
    "s1"
   ]
  },
  {
   "cell_type": "code",
   "execution_count": 116,
   "id": "2e23da8e-8b0f-4f7f-bfba-5faf53dcc8e7",
   "metadata": {},
   "outputs": [
    {
     "data": {
      "text/plain": [
       "'I LOVE PYTHON'"
      ]
     },
     "execution_count": 116,
     "metadata": {},
     "output_type": "execute_result"
    }
   ],
   "source": [
    "s2"
   ]
  },
  {
   "cell_type": "code",
   "execution_count": 117,
   "id": "fd3b6b1c-a046-4b48-bd17-f50c52154009",
   "metadata": {},
   "outputs": [
    {
     "data": {
      "text/plain": [
       "'I Love Python'"
      ]
     },
     "execution_count": 117,
     "metadata": {},
     "output_type": "execute_result"
    }
   ],
   "source": [
    "s1.title()"
   ]
  },
  {
   "cell_type": "code",
   "execution_count": 118,
   "id": "2f5d3523-842c-4bd0-8a2d-d9dc1172723d",
   "metadata": {},
   "outputs": [
    {
     "data": {
      "text/plain": [
       "'I love python'"
      ]
     },
     "execution_count": 118,
     "metadata": {},
     "output_type": "execute_result"
    }
   ],
   "source": [
    "s1.capitalize() "
   ]
  },
  {
   "cell_type": "code",
   "execution_count": 119,
   "id": "f47cbbcf-792b-4e41-b4fb-a6e989bb3afb",
   "metadata": {},
   "outputs": [],
   "source": [
    "s3='This is a long sentence for testing split function'"
   ]
  },
  {
   "cell_type": "code",
   "execution_count": 120,
   "id": "f3f38928-db34-4ade-8b14-bfc2f549ed25",
   "metadata": {},
   "outputs": [
    {
     "data": {
      "text/plain": [
       "['This', 'is', 'a', 'long', 'sentence', 'for', 'testing', 'split', 'function']"
      ]
     },
     "execution_count": 120,
     "metadata": {},
     "output_type": "execute_result"
    }
   ],
   "source": [
    "word_list=s3.split()\n",
    "word_list"
   ]
  },
  {
   "cell_type": "code",
   "execution_count": 121,
   "id": "da6aac7c-9cf5-4e5a-a8a9-461aaf56b0b8",
   "metadata": {},
   "outputs": [],
   "source": [
    "s4='Apple,Orange,Kiwi,Mango'"
   ]
  },
  {
   "cell_type": "code",
   "execution_count": 122,
   "id": "47796e4a-bb9d-4a2b-a22d-804479d553bf",
   "metadata": {},
   "outputs": [
    {
     "data": {
      "text/plain": [
       "['Apple', 'Orange', 'Kiwi', 'Mango']"
      ]
     },
     "execution_count": 122,
     "metadata": {},
     "output_type": "execute_result"
    }
   ],
   "source": [
    "s4.split(',')"
   ]
  },
  {
   "cell_type": "code",
   "execution_count": 123,
   "id": "92d24289-e574-4188-821b-c655be8b52b4",
   "metadata": {},
   "outputs": [
    {
     "data": {
      "text/plain": [
       "'This is a long sentence for testing split function'"
      ]
     },
     "execution_count": 123,
     "metadata": {},
     "output_type": "execute_result"
    }
   ],
   "source": [
    " ' '.join(word_list)"
   ]
  },
  {
   "cell_type": "code",
   "execution_count": 124,
   "id": "31301983-0a52-4eae-bb00-81043e12a28c",
   "metadata": {},
   "outputs": [
    {
     "data": {
      "text/plain": [
       "'This,is,a,long,sentence,for,testing,split,function'"
      ]
     },
     "execution_count": 124,
     "metadata": {},
     "output_type": "execute_result"
    }
   ],
   "source": [
    "','.join(word_list)"
   ]
  },
  {
   "cell_type": "code",
   "execution_count": 125,
   "id": "ed46560c-af94-4d0e-8a4a-5f7547d1d29f",
   "metadata": {},
   "outputs": [],
   "source": [
    "s4='python'"
   ]
  },
  {
   "cell_type": "code",
   "execution_count": 126,
   "id": "387a82a8-3841-4437-b8f6-7873c4537b5c",
   "metadata": {},
   "outputs": [
    {
     "data": {
      "text/plain": [
       "('python', 'python', 'python')"
      ]
     },
     "execution_count": 126,
     "metadata": {},
     "output_type": "execute_result"
    }
   ],
   "source": [
    "s4.lstrip(), s4.rstrip(), s4.strip()"
   ]
  },
  {
   "cell_type": "code",
   "execution_count": 127,
   "id": "60939539-5db1-4b33-864f-d1b42a0b7b7e",
   "metadata": {},
   "outputs": [
    {
     "data": {
      "text/plain": [
       "'i love java'"
      ]
     },
     "execution_count": 127,
     "metadata": {},
     "output_type": "execute_result"
    }
   ],
   "source": [
    "s1.replace('python','java')"
   ]
  },
  {
   "cell_type": "code",
   "execution_count": 128,
   "id": "21369625-605c-4d4e-8122-4b8b547cbb89",
   "metadata": {},
   "outputs": [
    {
     "ename": "SyntaxError",
     "evalue": "unterminated string literal (detected at line 2) (2677739793.py, line 2)",
     "output_type": "error",
     "traceback": [
      "\u001b[1;36m  Cell \u001b[1;32mIn[128], line 2\u001b[1;36m\u001b[0m\n\u001b[1;33m    s3='\"Hello\u001b[0m\n\u001b[1;37m       ^\u001b[0m\n\u001b[1;31mSyntaxError\u001b[0m\u001b[1;31m:\u001b[0m unterminated string literal (detected at line 2)\n"
     ]
    }
   ],
   "source": [
    "# formatted string\n",
    "s3='\"Hello\n",
    "World!\n",
    "How adr you\"'"
   ]
  },
  {
   "cell_type": "code",
   "execution_count": null,
   "id": "22c379f5-cdf7-45e5-9e30-62623ed10334",
   "metadata": {},
   "outputs": [],
   "source": [
    "## triple \"'   '\" is called dog string"
   ]
  },
  {
   "cell_type": "code",
   "execution_count": null,
   "id": "8fc7ad93-0b4f-4cd5-90ce-b718d096f2fd",
   "metadata": {},
   "outputs": [],
   "source": []
  }
 ],
 "metadata": {
  "kernelspec": {
   "display_name": "Python 3 (ipykernel)",
   "language": "python",
   "name": "python3"
  },
  "language_info": {
   "codemirror_mode": {
    "name": "ipython",
    "version": 3
   },
   "file_extension": ".py",
   "mimetype": "text/x-python",
   "name": "python",
   "nbconvert_exporter": "python",
   "pygments_lexer": "ipython3",
   "version": "3.12.7"
  }
 },
 "nbformat": 4,
 "nbformat_minor": 5
}
